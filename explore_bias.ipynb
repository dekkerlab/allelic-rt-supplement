{
 "cells": [
  {
   "cell_type": "markdown",
   "metadata": {},
   "source": [
    "### just trying to take a glance at Hi-C biases associated with allele1/2 to try to understand 2x difference in coverage"
   ]
  },
  {
   "cell_type": "code",
   "execution_count": 1,
   "metadata": {},
   "outputs": [
    {
     "data": {
      "application/javascript": [
       "require([\"codemirror/keymap/sublime\", \"notebook/js/cell\", \"base/js/namespace\"],\n",
       "    function(sublime_keymap, cell, IPython) {\n",
       "        cell.Cell.options_default.cm_config.keyMap = 'sublime';    \n",
       "        var cells = IPython.notebook.get_cells();    \n",
       "        for(var cl=0; cl< cells.length ; cl++){\n",
       "            cells[cl].code_mirror.setOption('keyMap', 'sublime');\n",
       "        }\n",
       "    }\n",
       ");\n"
      ],
      "text/plain": [
       "<IPython.core.display.Javascript object>"
      ]
     },
     "metadata": {},
     "output_type": "display_data"
    }
   ],
   "source": [
    "%%javascript\n",
    "require([\"codemirror/keymap/sublime\", \"notebook/js/cell\", \"base/js/namespace\"],\n",
    "    function(sublime_keymap, cell, IPython) {\n",
    "        cell.Cell.options_default.cm_config.keyMap = 'sublime';    \n",
    "        var cells = IPython.notebook.get_cells();    \n",
    "        for(var cl=0; cl< cells.length ; cl++){\n",
    "            cells[cl].code_mirror.setOption('keyMap', 'sublime');\n",
    "        }\n",
    "    }\n",
    ");"
   ]
  },
  {
   "cell_type": "code",
   "execution_count": 2,
   "metadata": {},
   "outputs": [],
   "source": [
    "%load_ext autoreload\n",
    "%autoreload 2"
   ]
  },
  {
   "cell_type": "code",
   "execution_count": 3,
   "metadata": {},
   "outputs": [],
   "source": [
    "%matplotlib inline\n",
    "import matplotlib\n",
    "import matplotlib.pyplot as plt\n",
    "import matplotlib.gridspec as gridspec\n",
    "from matplotlib import gridspec\n",
    "from matplotlib import colors\n",
    "\n",
    "import os\n",
    "import re\n",
    "import numpy as np\n",
    "import pandas as pd\n",
    "import cooler\n",
    "\n",
    "import itertools\n",
    "\n",
    "import seaborn as sns"
   ]
  },
  {
   "cell_type": "code",
   "execution_count": 4,
   "metadata": {},
   "outputs": [],
   "source": [
    "# cooltools used dekkerlab-fork, develop-branch, commit-af508bba9c6577b8271b716ba27c330bead15981\n",
    "from cooler.tools import split, partition\n",
    "from functools import partial\n",
    "from cooltools import expected\n",
    "\n",
    "import bioframe\n",
    "from bioframe.io import resources\n",
    "from bioframe import io\n",
    "\n",
    "from cooltools import numutils\n",
    "from cooltools.eigdecomp import cooler_cis_eig"
   ]
  },
  {
   "cell_type": "code",
   "execution_count": 5,
   "metadata": {},
   "outputs": [],
   "source": [
    "from helper_module import fillcolor_compartment_style, to_uscs, bar_signal, random_test"
   ]
  },
  {
   "cell_type": "code",
   "execution_count": 6,
   "metadata": {},
   "outputs": [],
   "source": [
    "cooler_names = [\n",
    "    'all-allele-spe-2percent-highcis.galGal5.mapq_30.1000.mcool',\n",
    "#     'all-allele-spe-1percent-highcis.galGal5.mapq_30.1000.mcool',\n",
    "    'MNP-DT40-1-3-16-2p-R1-T1__galGal5.galGal5.mapq_30.1000.mcool',\n",
    "#     'MNP-DT40-1-3-16-R2-T1__galGal5.galGal5.mapq_30.1000.mcool',\n",
    "    'MNP-DT40-1-3-17-2p-R1-T1__galGal5.galGal5.mapq_30.1000.mcool',\n",
    "#     'MNP-DT40-1-3-17-R1-T1__galGal5.galGal5.mapq_30.1000.mcool',\n",
    "    'MNP-DT40-WT1-R1-T1__galGal5.galGal5.mapq_30.1000.mcool',\n",
    "    'MNP-DT40-WT2-R1-T1__galGal5.galGal5.mapq_30.1000.mcool']"
   ]
  },
  {
   "cell_type": "markdown",
   "metadata": {},
   "source": [
    "### generate some nicer sample names from coolers ..."
   ]
  },
  {
   "cell_type": "code",
   "execution_count": 7,
   "metadata": {},
   "outputs": [
    {
     "data": {
      "text/html": [
       "<div>\n",
       "<style scoped>\n",
       "    .dataframe tbody tr th:only-of-type {\n",
       "        vertical-align: middle;\n",
       "    }\n",
       "\n",
       "    .dataframe tbody tr th {\n",
       "        vertical-align: top;\n",
       "    }\n",
       "\n",
       "    .dataframe thead th {\n",
       "        text-align: right;\n",
       "    }\n",
       "</style>\n",
       "<table border=\"1\" class=\"dataframe\">\n",
       "  <thead>\n",
       "    <tr style=\"text-align: right;\">\n",
       "      <th></th>\n",
       "      <th>sample</th>\n",
       "      <th>mcool</th>\n",
       "    </tr>\n",
       "  </thead>\n",
       "  <tbody>\n",
       "    <tr>\n",
       "      <th>0</th>\n",
       "      <td>pool-2percent-highcis</td>\n",
       "      <td>all-allele-spe-2percent-highcis.galGal5.mapq_3...</td>\n",
       "    </tr>\n",
       "    <tr>\n",
       "      <th>1</th>\n",
       "      <td>clone-16-2p</td>\n",
       "      <td>MNP-DT40-1-3-16-2p-R1-T1__galGal5.galGal5.mapq...</td>\n",
       "    </tr>\n",
       "    <tr>\n",
       "      <th>2</th>\n",
       "      <td>clone-17-2p</td>\n",
       "      <td>MNP-DT40-1-3-17-2p-R1-T1__galGal5.galGal5.mapq...</td>\n",
       "    </tr>\n",
       "    <tr>\n",
       "      <th>3</th>\n",
       "      <td>WT1</td>\n",
       "      <td>MNP-DT40-WT1-R1-T1__galGal5.galGal5.mapq_30.10...</td>\n",
       "    </tr>\n",
       "    <tr>\n",
       "      <th>4</th>\n",
       "      <td>WT2</td>\n",
       "      <td>MNP-DT40-WT2-R1-T1__galGal5.galGal5.mapq_30.10...</td>\n",
       "    </tr>\n",
       "  </tbody>\n",
       "</table>\n",
       "</div>"
      ],
      "text/plain": [
       "                  sample                                              mcool\n",
       "0  pool-2percent-highcis  all-allele-spe-2percent-highcis.galGal5.mapq_3...\n",
       "1            clone-16-2p  MNP-DT40-1-3-16-2p-R1-T1__galGal5.galGal5.mapq...\n",
       "2            clone-17-2p  MNP-DT40-1-3-17-2p-R1-T1__galGal5.galGal5.mapq...\n",
       "3                    WT1  MNP-DT40-WT1-R1-T1__galGal5.galGal5.mapq_30.10...\n",
       "4                    WT2  MNP-DT40-WT2-R1-T1__galGal5.galGal5.mapq_30.10..."
      ]
     },
     "execution_count": 7,
     "metadata": {},
     "output_type": "execute_result"
    }
   ],
   "source": [
    "# multiqc learnings here, btw!...\n",
    "renamings = {\"all-allele-spe\":\"pool\",\n",
    "            \".galGal5.mapq_30.1000.mcool\":\"\",\n",
    "            \"MNP-DT40-\":\"\",\n",
    "            \"-T1__galGal5\":\"\",\n",
    "            \"-R1\":\"\",\n",
    "            \"1-3-\":\"clone-\"}\n",
    "\n",
    "sample_names = []\n",
    "for c in cooler_names:\n",
    "    for rf,rt in renamings.items():\n",
    "        c = re.sub(rf,rt,c)\n",
    "    sample_names.append(c)\n",
    "\n",
    "# sample_names\n",
    "\n",
    "# form a df of samples here:\n",
    "samples = pd.DataFrame({\"sample\":sample_names,\"mcool\":cooler_names})\n",
    "\n",
    "samples"
   ]
  },
  {
   "cell_type": "markdown",
   "metadata": {},
   "source": [
    "### read some coolers and extract raw number of interactions between allele1/2 and other chromosomes ..."
   ]
  },
  {
   "cell_type": "code",
   "execution_count": 8,
   "metadata": {},
   "outputs": [],
   "source": [
    "# READ SOME COOLERS ...\n",
    "# oldref-20200617\n",
    "cool_path = \"/home/venevs/DOTS_TESTING/alv-chicken/oldref-20200617\"\n",
    "get_cpath = lambda c,b: os.path.join(cool_path,c+f\"::/resolutions/{b}\")\n",
    "\n",
    "insertion_site = 72_500_000\n",
    "\n",
    "dfs = {}\n",
    "for s in samples[\"sample\"]:\n",
    "    _bsize = 1_000_000\n",
    "    s_cname, = samples[\"mcool\"][samples[\"sample\"]==s]\n",
    "    _c = cooler.Cooler(get_cpath(s_cname,_bsize))\n",
    "    _df = pd.DataFrame(_c.chromsizes).reset_index().rename({\"name\":\"chrom\"},axis=1)\n",
    "    a1_idx = _c.offset(\"allele1\")\n",
    "    a2_idx = _c.offset(\"allele2\")\n",
    "    chr1_idx = slice(*_c.extent(\"chr1\"))\n",
    "    # chr1_idx = _c.offset((\"chr1\",insertion_site,insertion_site+_bsize))\n",
    "    _df[\"allele1\"] = [np.sum(_c.matrix(balance=False)[a1_idx,slice(*_c.extent(chrom))]) for chrom in _c.chromnames]\n",
    "    _df[\"allele2\"] = [np.sum(_c.matrix(balance=False)[a2_idx,slice(*_c.extent(chrom))]) for chrom in _c.chromnames]\n",
    "    _df[\"chr1\"] = [np.sum(_c.matrix(balance=False)[chr1_idx,slice(*_c.extent(chrom))]) for chrom in _c.chromnames]\n",
    "    dfs[s] = _df"
   ]
  },
  {
   "cell_type": "markdown",
   "metadata": {},
   "source": [
    "### test GC content of allele1 and allele2, and \"density\" of DpnII cut-sites"
   ]
  },
  {
   "cell_type": "code",
   "execution_count": 33,
   "metadata": {},
   "outputs": [
    {
     "name": "stdout",
     "output_type": "stream",
     "text": [
      "chr1 40.01674361571989 196202544\n",
      "chr1 cutsites 0.002134\n",
      "allele1 56.674565560821485 2532\n",
      "allele1 cutsites 0.004344391785150079\n",
      "allele2 46.15384615384615 2509\n",
      "allele2 cutsites 0.0031885213232363493\n"
     ]
    }
   ],
   "source": [
    "gc_dict = {}\n",
    "from Bio import SeqIO, SeqUtils\n",
    "for seq in SeqIO.parse(\"galGal5.fa\",\"fasta\"):\n",
    "    if seq.id in [\"allele1\",\"allele2\"]:\n",
    "        print(seq.id, SeqUtils.GC(seq.seq), len(seq))\n",
    "        cuts = len(SeqUtils.nt_search(str(seq.seq),\"GATC\"))-1\n",
    "        print(seq.id, \"cutsites\", cuts/len(seq) )\n",
    "        gc_dict[seq.id] = {\"GC\":SeqUtils.GC(seq.seq),\"length\":len(seq),\"cut\":cuts/len(seq)}\n",
    "    elif seq.id == \"chr1\":\n",
    "        # print(seq.id, SeqUtils.GC(seq.seq[insertion_site-1_000_000:insertion_site+1_000_000]), len(seq))\n",
    "        # only an estimate of cut sites in chr1 - only in the first 1Mb\n",
    "        # otherwise it takes forever to calculate ...\n",
    "        cuts = len(SeqUtils.nt_search(str(seq.seq)[:1_000_000],\"GATC\"))-1\n",
    "        print(seq.id, SeqUtils.GC(seq.seq), len(seq))\n",
    "        print(seq.id, \"cutsites\", cuts/1_000_000 )\n",
    "        gc_dict[seq.id] = {\"GC\":SeqUtils.GC(seq.seq),\"length\":len(seq),\"cut\":cuts/1_000_000}\n",
    "    else:\n",
    "        pass\n",
    "# allele1 is a bit more GC-rich"
   ]
  },
  {
   "cell_type": "code",
   "execution_count": 10,
   "metadata": {},
   "outputs": [
    {
     "name": "stdout",
     "output_type": "stream",
     "text": [
      "pool-2percent-highcis {'bin-size': 50000, 'bin-type': 'fixed', 'creation-date': '2020-06-11T04:43:47.331890', 'format': 'HDF5::Cooler', 'format-url': 'https://github.com/mirnylab/cooler', 'format-version': 3, 'generated-by': 'cooler-0.8.1', 'genome-assembly': 'unknown', 'metadata': {}, 'nbins': 20433, 'nchroms': 37, 'nnz': 111179105, 'storage-mode': 'symmetric-upper', 'sum': 897082537}\n"
     ]
    }
   ],
   "source": [
    "s = samples[\"sample\"][0]\n",
    "_bsize = 50_000\n",
    "s_cname, = samples[\"mcool\"][samples[\"sample\"]==s]\n",
    "clr = cooler.Cooler(get_cpath(s_cname,_bsize))\n",
    "print(s,clr.info)"
   ]
  },
  {
   "cell_type": "code",
   "execution_count": 12,
   "metadata": {},
   "outputs": [],
   "source": [
    "binss = []\n",
    "for seqrec in SeqIO.parse(\"galGal5.fa\",\"fasta\"):\n",
    "    chrom = seqrec.id\n",
    "    if chrom in clr.chromnames[:10]:\n",
    "        bins = clr.bins().fetch(chrom)\n",
    "        bins[\"GC\"] = [ SeqUtils.GC(seqrec.seq[r.start:r.end])  for r in bins.itertuples()]\n",
    "        bins[\"cut\"] = [ len(SeqUtils.nt_search(str(seqrec.seq[r.start:r.end]),\"GATC\"))/(r.end-r.start) for r in bins.itertuples()]\n",
    "        binss.append(bins) \n",
    "binss = pd.concat(binss)"
   ]
  },
  {
   "cell_type": "code",
   "execution_count": 13,
   "metadata": {
    "scrolled": false
   },
   "outputs": [
    {
     "data": {
      "text/plain": [
       "<seaborn.axisgrid.PairGrid at 0x7f9d21fe5550>"
      ]
     },
     "execution_count": 13,
     "metadata": {},
     "output_type": "execute_result"
    },
    {
     "data": {
      "image/png": "[encoded data removed]",
      "text/plain": [
       "<Figure size 540x540 with 12 Axes>"
      ]
     },
     "metadata": {
      "needs_background": "light"
     },
     "output_type": "display_data"
    }
   ],
   "source": [
    "# sns.jointplot(data=binss,y=\"weight\",x=\"GC\",kind=\"hex\", color=\"k\");\n",
    "g = sns.PairGrid(binss[[\"GC\",\"weight\",\"cut\"]], diag_sharey=False)\n",
    "g.map_upper(sns.scatterplot,**{\"alpha\":0.1})\n",
    "g.map_lower(plt.hexbin ,gridsize=1000)#, **{\"kind\":\"hex\"})\n",
    "g.map_diag(plt.hist, bins=50)"
   ]
  },
  {
   "cell_type": "markdown",
   "metadata": {},
   "source": [
    "### let's estimate fraction of `cis` interactions for allele1/2\n",
    "\n",
    "this is a rough estimate , calculated by summing raw allele1/2 interactions with chr1 and dividing by the total number of interactions detected with allele1/2"
   ]
  },
  {
   "cell_type": "code",
   "execution_count": 46,
   "metadata": {},
   "outputs": [],
   "source": [
    "# construct a little table to characterize each sample allele1/allele2 interactions\n",
    "df_dict = {}\n",
    "for s in samples[\"sample\"]:\n",
    "    if \"WT\" not in s:\n",
    "        df_dict[s] = {}\n",
    "        df_dict[s][\"allele1\"] = {}\n",
    "        df_dict[s][\"allele2\"] = {}\n",
    "        df_dict[s][\"chr1\"] = {}\n",
    "\n",
    "df_combo = []\n",
    "for s in samples[\"sample\"]:\n",
    "    if \"WT\" not in s:\n",
    "        dd = dfs[s]\n",
    "        for ccc in [\"allele1\",\"allele2\",\"chr1\"]:\n",
    "            df_dict[s][ccc][\"total interactions\"] = str(dd[ccc].sum())\n",
    "            df_dict[s][ccc][\"interactions w. chr1\"] = str(dd[dd[\"chrom\"]==\"chr1\"][ccc].sum())\n",
    "            df_dict[s][ccc][\"cis_percent\"] = str(f'{100*dd[dd[\"chrom\"].isin([ccc,\"chr1\"])][ccc].sum()/dd[ccc].sum():.2f}')\n",
    "            df_dict[s][ccc][\"GC\"] = gc_dict[ccc][\"GC\"]\n",
    "            df_dict[s][ccc][\"DpnII sites/bp\"] = gc_dict[ccc][\"cut\"]\n",
    "            df_dict[s][ccc][\"length\"] = gc_dict[ccc][\"length\"]\n",
    "            #\n",
    "            _df = pd.DataFrame(df_dict[s]).T\n",
    "            _df[\"sample\"] = s\n",
    "            df_combo.append(_df)\n",
    "            \n",
    "        \n",
    "# allele1 seem to have more inter-chromosomal interactions\n",
    "# allele2 have average level of interactions with other chromosomes - roughly as a whole chr1\n",
    "\n",
    "dtypes = {\"total interactions\":int,\n",
    "        \"interactions w. chr1\":int,\n",
    "        \"cis_percent\":float,\n",
    "        \"GC\":float,\n",
    "        \"length\":int,\n",
    "        }\n",
    "# nice summary table about the samples/alleles :\n",
    "final_df = pd.concat(df_combo) \\\n",
    "    .dropna() \\\n",
    "    .drop_duplicates() \\\n",
    "    .reset_index() \\\n",
    "    .rename({\"index\":\"name\"},axis=1) \\\n",
    "    .sort_values(\"name\") \\\n",
    "    .reset_index(drop=True) \\\n",
    "    .astype(dtypes)"
   ]
  },
  {
   "cell_type": "code",
   "execution_count": 47,
   "metadata": {},
   "outputs": [
    {
     "name": "stdout",
     "output_type": "stream",
     "text": [
      "clone-16-2p\n"
     ]
    },
    {
     "data": {
      "text/html": [
       "<div>\n",
       "<style scoped>\n",
       "    .dataframe tbody tr th:only-of-type {\n",
       "        vertical-align: middle;\n",
       "    }\n",
       "\n",
       "    .dataframe tbody tr th {\n",
       "        vertical-align: top;\n",
       "    }\n",
       "\n",
       "    .dataframe thead th {\n",
       "        text-align: right;\n",
       "    }\n",
       "</style>\n",
       "<table border=\"1\" class=\"dataframe\">\n",
       "  <thead>\n",
       "    <tr style=\"text-align: right;\">\n",
       "      <th></th>\n",
       "      <th>name</th>\n",
       "      <th>length</th>\n",
       "      <th>GC</th>\n",
       "      <th>DpnII sites/bp</th>\n",
       "      <th>total interactions</th>\n",
       "      <th>cis_percent</th>\n",
       "    </tr>\n",
       "  </thead>\n",
       "  <tbody>\n",
       "    <tr>\n",
       "      <th>0</th>\n",
       "      <td>allele1</td>\n",
       "      <td>2532</td>\n",
       "      <td>56.674566</td>\n",
       "      <td>0.00434439</td>\n",
       "      <td>2433</td>\n",
       "      <td>67.41</td>\n",
       "    </tr>\n",
       "    <tr>\n",
       "      <th>1</th>\n",
       "      <td>allele2</td>\n",
       "      <td>2509</td>\n",
       "      <td>46.153846</td>\n",
       "      <td>0.00318852</td>\n",
       "      <td>1318</td>\n",
       "      <td>80.20</td>\n",
       "    </tr>\n",
       "    <tr>\n",
       "      <th>2</th>\n",
       "      <td>chr1</td>\n",
       "      <td>196202544</td>\n",
       "      <td>40.016744</td>\n",
       "      <td>0.002134</td>\n",
       "      <td>121564119</td>\n",
       "      <td>81.08</td>\n",
       "    </tr>\n",
       "  </tbody>\n",
       "</table>\n",
       "</div>"
      ],
      "text/plain": [
       "      name     length         GC DpnII sites/bp  total interactions  \\\n",
       "0  allele1       2532  56.674566     0.00434439                2433   \n",
       "1  allele2       2509  46.153846     0.00318852                1318   \n",
       "2     chr1  196202544  40.016744       0.002134           121564119   \n",
       "\n",
       "   cis_percent  \n",
       "0        67.41  \n",
       "1        80.20  \n",
       "2        81.08  "
      ]
     },
     "metadata": {},
     "output_type": "display_data"
    },
    {
     "name": "stdout",
     "output_type": "stream",
     "text": [
      "clone-17-2p\n"
     ]
    },
    {
     "data": {
      "text/html": [
       "<div>\n",
       "<style scoped>\n",
       "    .dataframe tbody tr th:only-of-type {\n",
       "        vertical-align: middle;\n",
       "    }\n",
       "\n",
       "    .dataframe tbody tr th {\n",
       "        vertical-align: top;\n",
       "    }\n",
       "\n",
       "    .dataframe thead th {\n",
       "        text-align: right;\n",
       "    }\n",
       "</style>\n",
       "<table border=\"1\" class=\"dataframe\">\n",
       "  <thead>\n",
       "    <tr style=\"text-align: right;\">\n",
       "      <th></th>\n",
       "      <th>name</th>\n",
       "      <th>length</th>\n",
       "      <th>GC</th>\n",
       "      <th>DpnII sites/bp</th>\n",
       "      <th>total interactions</th>\n",
       "      <th>cis_percent</th>\n",
       "    </tr>\n",
       "  </thead>\n",
       "  <tbody>\n",
       "    <tr>\n",
       "      <th>0</th>\n",
       "      <td>allele1</td>\n",
       "      <td>2532</td>\n",
       "      <td>56.674566</td>\n",
       "      <td>0.00434439</td>\n",
       "      <td>2369</td>\n",
       "      <td>69.78</td>\n",
       "    </tr>\n",
       "    <tr>\n",
       "      <th>1</th>\n",
       "      <td>allele2</td>\n",
       "      <td>2509</td>\n",
       "      <td>46.153846</td>\n",
       "      <td>0.00318852</td>\n",
       "      <td>1290</td>\n",
       "      <td>78.53</td>\n",
       "    </tr>\n",
       "    <tr>\n",
       "      <th>2</th>\n",
       "      <td>chr1</td>\n",
       "      <td>196202544</td>\n",
       "      <td>40.016744</td>\n",
       "      <td>0.002134</td>\n",
       "      <td>116517761</td>\n",
       "      <td>80.63</td>\n",
       "    </tr>\n",
       "  </tbody>\n",
       "</table>\n",
       "</div>"
      ],
      "text/plain": [
       "      name     length         GC DpnII sites/bp  total interactions  \\\n",
       "0  allele1       2532  56.674566     0.00434439                2369   \n",
       "1  allele2       2509  46.153846     0.00318852                1290   \n",
       "2     chr1  196202544  40.016744       0.002134           116517761   \n",
       "\n",
       "   cis_percent  \n",
       "0        69.78  \n",
       "1        78.53  \n",
       "2        80.63  "
      ]
     },
     "metadata": {},
     "output_type": "display_data"
    }
   ],
   "source": [
    "cols = [\"name\",\n",
    "\"length\",\n",
    "\"GC\",\n",
    "\"DpnII sites/bp\",\n",
    "\"total interactions\",\n",
    "# \"interactions w. chr1\",\n",
    "\"cis_percent\"]\n",
    "\n",
    "\n",
    "print(\"clone-16-2p\")\n",
    "display( final_df[final_df[\"sample\"] == \"clone-16-2p\"].reset_index(drop=True)[cols] )\n",
    "print(\"clone-17-2p\")\n",
    "display( final_df[final_df[\"sample\"] == \"clone-17-2p\"].reset_index(drop=True)[cols] )"
   ]
  },
  {
   "cell_type": "code",
   "execution_count": null,
   "metadata": {},
   "outputs": [],
   "source": []
  }
 ],
 "metadata": {
  "kernelspec": {
   "display_name": "Python 3",
   "language": "python",
   "name": "python3"
  },
  "language_info": {
   "codemirror_mode": {
    "name": "ipython",
    "version": 3
   },
   "file_extension": ".py",
   "mimetype": "text/x-python",
   "name": "python",
   "nbconvert_exporter": "python",
   "pygments_lexer": "ipython3",
   "version": "3.7.7"
  }
 },
 "nbformat": 4,
 "nbformat_minor": 4
}
