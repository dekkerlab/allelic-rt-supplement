{
 "cells": [
  {
   "cell_type": "code",
   "execution_count": 1,
   "metadata": {},
   "outputs": [
    {
     "data": {
      "application/javascript": [
       "require([\"codemirror/keymap/sublime\", \"notebook/js/cell\", \"base/js/namespace\"],\n",
       "    function(sublime_keymap, cell, IPython) {\n",
       "        cell.Cell.options_default.cm_config.keyMap = 'sublime';    \n",
       "    \n",
       "        var cells = IPython.notebook.get_cells();    \n",
       "        for(var cl=0; cl< cells.length ; cl++){\n",
       "            cells[cl].code_mirror.setOption('keyMap', 'sublime');\n",
       "        }\n",
       "    }\n",
       ");\n"
      ],
      "text/plain": [
       "<IPython.core.display.Javascript object>"
      ]
     },
     "metadata": {},
     "output_type": "display_data"
    }
   ],
   "source": [
    "%%javascript\n",
    "require([\"codemirror/keymap/sublime\", \"notebook/js/cell\", \"base/js/namespace\"],\n",
    "    function(sublime_keymap, cell, IPython) {\n",
    "        cell.Cell.options_default.cm_config.keyMap = 'sublime';    \n",
    "    \n",
    "        var cells = IPython.notebook.get_cells();    \n",
    "        for(var cl=0; cl< cells.length ; cl++){\n",
    "            cells[cl].code_mirror.setOption('keyMap', 'sublime');\n",
    "        }\n",
    "    }\n",
    ");"
   ]
  },
  {
   "cell_type": "code",
   "execution_count": 2,
   "metadata": {},
   "outputs": [],
   "source": [
    "%load_ext autoreload\n",
    "%autoreload 2"
   ]
  },
  {
   "cell_type": "code",
   "execution_count": 3,
   "metadata": {},
   "outputs": [],
   "source": [
    "%matplotlib inline\n",
    "import matplotlib\n",
    "import matplotlib.pyplot as plt\n",
    "import matplotlib.gridspec as gridspec\n",
    "from matplotlib import gridspec\n",
    "from matplotlib import colors\n",
    "\n",
    "import os\n",
    "import re\n",
    "import numpy as np\n",
    "import pandas as pd\n",
    "import cooler\n",
    "\n",
    "import itertools\n",
    "\n",
    "import seaborn as sns"
   ]
  },
  {
   "cell_type": "code",
   "execution_count": 4,
   "metadata": {},
   "outputs": [],
   "source": [
    "# cooltools used dekkerlab-fork, develop-branch, commit-af508bba9c6577b8271b716ba27c330bead15981\n",
    "from cooler.tools import split, partition\n",
    "from functools import partial\n",
    "from cooltools import expected\n",
    "\n",
    "import bioframe\n",
    "from bioframe.io import resources\n",
    "from bioframe import io\n",
    "\n",
    "from cooltools import numutils\n",
    "from cooltools.eigdecomp import cooler_cis_eig"
   ]
  },
  {
   "cell_type": "code",
   "execution_count": 5,
   "metadata": {},
   "outputs": [],
   "source": [
    "from helper_module import fillcolor_compartment_style, to_uscs, bar_signal, random_test"
   ]
  },
  {
   "cell_type": "code",
   "execution_count": 6,
   "metadata": {},
   "outputs": [],
   "source": [
    "from matplotlib import ticker\n",
    "mb_format = ticker.FuncFormatter(lambda bp, pos: f\"{int(bp/1_000_000)}\")"
   ]
  },
  {
   "cell_type": "code",
   "execution_count": 7,
   "metadata": {},
   "outputs": [],
   "source": [
    "cooler_names = [\n",
    "    'all-allele-spe-2percent-highcis.galGal5.mapq_30.1000.mcool',\n",
    "#     'all-allele-spe-1percent-highcis.galGal5.mapq_30.1000.mcool',\n",
    "    'MNP-DT40-1-3-16-2p-R1-T1__galGal5.galGal5.mapq_30.1000.mcool',\n",
    "#     'MNP-DT40-1-3-16-R2-T1__galGal5.galGal5.mapq_30.1000.mcool',\n",
    "    'MNP-DT40-1-3-17-2p-R1-T1__galGal5.galGal5.mapq_30.1000.mcool',\n",
    "#     'MNP-DT40-1-3-17-R1-T1__galGal5.galGal5.mapq_30.1000.mcool',\n",
    "    'MNP-DT40-WT1-R1-T1__galGal5.galGal5.mapq_30.1000.mcool',\n",
    "    'MNP-DT40-WT2-R1-T1__galGal5.galGal5.mapq_30.1000.mcool']"
   ]
  },
  {
   "cell_type": "markdown",
   "metadata": {},
   "source": [
    "### generate some nicer sample names from coolers ..."
   ]
  },
  {
   "cell_type": "code",
   "execution_count": 8,
   "metadata": {},
   "outputs": [
    {
     "data": {
      "text/html": [
       "<div>\n",
       "<style scoped>\n",
       "    .dataframe tbody tr th:only-of-type {\n",
       "        vertical-align: middle;\n",
       "    }\n",
       "\n",
       "    .dataframe tbody tr th {\n",
       "        vertical-align: top;\n",
       "    }\n",
       "\n",
       "    .dataframe thead th {\n",
       "        text-align: right;\n",
       "    }\n",
       "</style>\n",
       "<table border=\"1\" class=\"dataframe\">\n",
       "  <thead>\n",
       "    <tr style=\"text-align: right;\">\n",
       "      <th></th>\n",
       "      <th>sample</th>\n",
       "      <th>mcool</th>\n",
       "    </tr>\n",
       "  </thead>\n",
       "  <tbody>\n",
       "    <tr>\n",
       "      <th>0</th>\n",
       "      <td>pool-2percent-highcis</td>\n",
       "      <td>all-allele-spe-2percent-highcis.galGal5.mapq_3...</td>\n",
       "    </tr>\n",
       "    <tr>\n",
       "      <th>1</th>\n",
       "      <td>clone-16-2p</td>\n",
       "      <td>MNP-DT40-1-3-16-2p-R1-T1__galGal5.galGal5.mapq...</td>\n",
       "    </tr>\n",
       "    <tr>\n",
       "      <th>2</th>\n",
       "      <td>clone-17-2p</td>\n",
       "      <td>MNP-DT40-1-3-17-2p-R1-T1__galGal5.galGal5.mapq...</td>\n",
       "    </tr>\n",
       "    <tr>\n",
       "      <th>3</th>\n",
       "      <td>WT1</td>\n",
       "      <td>MNP-DT40-WT1-R1-T1__galGal5.galGal5.mapq_30.10...</td>\n",
       "    </tr>\n",
       "    <tr>\n",
       "      <th>4</th>\n",
       "      <td>WT2</td>\n",
       "      <td>MNP-DT40-WT2-R1-T1__galGal5.galGal5.mapq_30.10...</td>\n",
       "    </tr>\n",
       "  </tbody>\n",
       "</table>\n",
       "</div>"
      ],
      "text/plain": [
       "                  sample                                              mcool\n",
       "0  pool-2percent-highcis  all-allele-spe-2percent-highcis.galGal5.mapq_3...\n",
       "1            clone-16-2p  MNP-DT40-1-3-16-2p-R1-T1__galGal5.galGal5.mapq...\n",
       "2            clone-17-2p  MNP-DT40-1-3-17-2p-R1-T1__galGal5.galGal5.mapq...\n",
       "3                    WT1  MNP-DT40-WT1-R1-T1__galGal5.galGal5.mapq_30.10...\n",
       "4                    WT2  MNP-DT40-WT2-R1-T1__galGal5.galGal5.mapq_30.10..."
      ]
     },
     "execution_count": 8,
     "metadata": {},
     "output_type": "execute_result"
    }
   ],
   "source": [
    "# multiqc learnings here, btw!...\n",
    "renamings = {\"all-allele-spe\":\"pool\",\n",
    "            \".galGal5.mapq_30.1000.mcool\":\"\",\n",
    "            \"MNP-DT40-\":\"\",\n",
    "            \"-T1__galGal5\":\"\",\n",
    "            \"-R1\":\"\",\n",
    "            \"1-3-\":\"clone-\"}\n",
    "\n",
    "sample_names = []\n",
    "for c in cooler_names:\n",
    "    for rf,rt in renamings.items():\n",
    "        c = re.sub(rf,rt,c)\n",
    "    sample_names.append(c)\n",
    "\n",
    "# sample_names\n",
    "\n",
    "# form a df of samples here:\n",
    "samples = pd.DataFrame({\"sample\":sample_names,\"mcool\":cooler_names})\n",
    "\n",
    "samples"
   ]
  },
  {
   "cell_type": "markdown",
   "metadata": {},
   "source": [
    "### read some coolers and extract raw number of interactions between allele1/2 and other chromosomes ..."
   ]
  },
  {
   "cell_type": "code",
   "execution_count": 9,
   "metadata": {},
   "outputs": [],
   "source": [
    "# READ SOME COOLERS ...\n",
    "# oldref-20200617\n",
    "cool_path = \"/home/venevs/DOTS_TESTING/alv-chicken/oldref-20200617\"\n",
    "get_cpath = lambda c,b: os.path.join(cool_path,c+f\"::/resolutions/{b}\")\n",
    "\n",
    "insertion_site = 72_500_000\n",
    "\n",
    "dfs = {}\n",
    "for s in samples[\"sample\"]:\n",
    "    if \"WT\" not in s:\n",
    "        _bsize = 1_000_000\n",
    "        s_cname, = samples[\"mcool\"][samples[\"sample\"]==s]\n",
    "        _c = cooler.Cooler(get_cpath(s_cname,_bsize))\n",
    "        _df = pd.DataFrame(_c.chromsizes).reset_index().rename({\"name\":\"chrom\"},axis=1)\n",
    "        a1_idx = _c.offset(\"allele1\")\n",
    "        a2_idx = _c.offset(\"allele2\")\n",
    "        chr1_idx = slice(*_c.extent(\"chr1\"))\n",
    "        # chr1_idx = _c.offset((\"chr1\",insertion_site,insertion_site+_bsize))\n",
    "        _df[\"allele1\"] = [np.sum(_c.matrix(balance=False)[a1_idx,slice(*_c.extent(chrom))]) for chrom in _c.chromnames]\n",
    "        _df[\"allele2\"] = [np.sum(_c.matrix(balance=False)[a2_idx,slice(*_c.extent(chrom))]) for chrom in _c.chromnames]\n",
    "        _df[\"chr1\"] = [np.sum(_c.matrix(balance=False)[chr1_idx,slice(*_c.extent(chrom))]) for chrom in _c.chromnames]\n",
    "        dfs[s] = _df"
   ]
  },
  {
   "cell_type": "markdown",
   "metadata": {},
   "source": [
    "### now let's compare number of interactions per bp betweeb allele1/2"
   ]
  },
  {
   "cell_type": "code",
   "execution_count": 10,
   "metadata": {},
   "outputs": [
    {
     "name": "stderr",
     "output_type": "stream",
     "text": [
      "/home/venevs/miniconda3/envs/newexp/lib/python3.7/site-packages/ipykernel_launcher.py:26: SettingWithCopyWarning: \n",
      "A value is trying to be set on a copy of a slice from a DataFrame.\n",
      "Try using .loc[row_indexer,col_indexer] = value instead\n",
      "\n",
      "See the caveats in the documentation: https://pandas.pydata.org/pandas-docs/stable/user_guide/indexing.html#returning-a-view-versus-a-copy\n",
      "/home/venevs/miniconda3/envs/newexp/lib/python3.7/site-packages/ipykernel_launcher.py:27: SettingWithCopyWarning: \n",
      "A value is trying to be set on a copy of a slice from a DataFrame.\n",
      "Try using .loc[row_indexer,col_indexer] = value instead\n",
      "\n",
      "See the caveats in the documentation: https://pandas.pydata.org/pandas-docs/stable/user_guide/indexing.html#returning-a-view-versus-a-copy\n"
     ]
    },
    {
     "data": {
      "image/png": "[encoded data removed]",
      "text/plain": [
       "<Figure size 864x288 with 3 Axes>"
      ]
     },
     "metadata": {
      "needs_background": "light"
     },
     "output_type": "display_data"
    }
   ],
   "source": [
    "\n",
    "fx = plt.figure(figsize=(12,4),constrained_layout=True)\n",
    "\n",
    "spx = fx.add_gridspec(\n",
    "                ncols=3,\n",
    "                nrows=1,\n",
    "                width_ratios=[1,1,1],\n",
    "            )\n",
    "ax = [0]*3\n",
    "for i in range(3):\n",
    "    ax[i] = fx.add_subplot(spx[i])\n",
    "# ax2 = fx.add_subplot(spx[1])#,sharey=ax1)\n",
    "\n",
    "\n",
    "idx = 0\n",
    "for s in samples[\"sample\"]:\n",
    "    if \"WT\" not in s:\n",
    "        dd = dfs[s]\n",
    "        al1_total = dd[\"allele1\"].sum()\n",
    "        al2_total = dd[\"allele2\"].sum()\n",
    "        # pre-filter dd (by length or whatever)\n",
    "        cond1 = dd[\"length\"] >= 5_000_000\n",
    "        cond2 = ~dd[\"chrom\"].isin([\"allele1\",\"allele2\",\"chr1\"])\n",
    "        dd = dd[ cond1 & cond2 ]\n",
    "        #\n",
    "        # normalize # of contacts and plot ...\n",
    "        dd[\"allele1_rel\"] = dd[\"allele1\"]/dd[\"length\"]#/al1_sum\n",
    "        dd[\"allele2_rel\"] = dd[\"allele2\"]/dd[\"length\"]#/al2_sum\n",
    "        #\n",
    "        x=dd[\"allele2_rel\"].values\n",
    "        y=dd[\"allele1_rel\"].values\n",
    "        ax[idx].scatter(x=dd[\"allele2_rel\"].values,y=dd[\"allele1_rel\"].values)            \n",
    "        for i, txt in enumerate(dd[\"chrom\"].values):\n",
    "            dx, = np.diff(ax[idx].get_xlim())\n",
    "            dy, = np.diff(ax[idx].get_ylim())\n",
    "            dx *= 0.01\n",
    "            dy *= 0.01\n",
    "            if txt == \"chr14\":\n",
    "                txt = \"chr14*\"\n",
    "            ax[idx].annotate(txt.lstrip(\"chr\"), (x[i]+dx, y[i]+dy),fontsize=12)\n",
    "        #\n",
    "        ax[idx].set_title(s)\n",
    "        ax[idx].set_xlabel(\"allele2 interactions/bp\")\n",
    "        ax[idx].set_ylabel(\"allele1 interactions/bp\")\n",
    "        idx += 1\n",
    "\n",
    "        \n",
    "        \n",
    "# plt.savefig(\"trans_scatter.pdf\")"
   ]
  },
  {
   "cell_type": "code",
   "execution_count": 14,
   "metadata": {},
   "outputs": [
    {
     "data": {
      "text/plain": [
       "<matplotlib.legend.Legend at 0x7fe008698690>"
      ]
     },
     "execution_count": 14,
     "metadata": {},
     "output_type": "execute_result"
    },
    {
     "data": {
      "image/png": "[encoded data removed]",
      "text/plain": [
       "<Figure size 1152x432 with 3 Axes>"
      ]
     },
     "metadata": {
      "needs_background": "light"
     },
     "output_type": "display_data"
    }
   ],
   "source": [
    "chrom=\"chr9\"\n",
    "f = plt.figure(figsize=(16,6))\n",
    "sp = f.add_gridspec(ncols=1,nrows=3)\n",
    "_bsize = 250_000\n",
    "balanced = False\n",
    "for i in range(3):\n",
    "    ax = f.add_subplot(sp[i])\n",
    "    s = samples[\"sample\"][i]\n",
    "    s_cname, = samples[\"mcool\"][samples[\"sample\"]==s]\n",
    "    clr = cooler.Cooler(get_cpath(s_cname,_bsize))\n",
    "\n",
    "    a1_idx = clr.offset(\"allele1\")\n",
    "    a2_idx = clr.offset(\"allele2\")\n",
    "    chr_idx = slice(*clr.extent(chrom))\n",
    "\n",
    "    al1_chr, = clr.matrix(balance=balanced)[a1_idx,chr_idx]\n",
    "    al2_chr, = clr.matrix(balance=balanced)[a2_idx,chr_idx]\n",
    "\n",
    "    x = clr.bins()[chr_idx][\"start\"].values\n",
    "    \n",
    "    al1_vis = dict(color=\"darkorange\", marker='x', markersize=8, linewidth=0, label=\"allele1\", alpha=0.999)\n",
    "    al2_vis = dict(color='steelblue', marker='x', markersize=8, linewidth=0, label=\"allele2\", alpha=0.999)\n",
    "\n",
    "    plt.plot(x, al1_chr, **al1_vis)\n",
    "    plt.plot(x, al2_chr, **al2_vis)\n",
    "    plt.gca().set_yscale(\"log\")\n",
    "    ax = plt.gca()\n",
    "    ax.set_xlim(x.min(),x.max())\n",
    "    ax.xaxis.set_major_formatter(mb_format)\n",
    "    ax.set_ylabel(\"interactions, pairs\")\n",
    "    ax.text(0.01,0.82,s,transform=ax.transAxes)\n",
    "\n",
    "ax.set_xlabel(f\"genomic positon along {chrom}, Mb\")\n",
    "plt.legend(frameon=False)\n",
    "# plt.savefig(\"supp-raw-overview-chr14.pdf\")"
   ]
  },
  {
   "cell_type": "code",
   "execution_count": null,
   "metadata": {},
   "outputs": [],
   "source": []
  }
 ],
 "metadata": {
  "kernelspec": {
   "display_name": "Python 3",
   "language": "python",
   "name": "python3"
  },
  "language_info": {
   "codemirror_mode": {
    "name": "ipython",
    "version": 3
   },
   "file_extension": ".py",
   "mimetype": "text/x-python",
   "name": "python",
   "nbconvert_exporter": "python",
   "pygments_lexer": "ipython3",
   "version": "3.7.7"
  }
 },
 "nbformat": 4,
 "nbformat_minor": 4
}
