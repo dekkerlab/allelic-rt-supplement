{
 "cells": [
  {
   "cell_type": "code",
   "execution_count": 1,
   "metadata": {},
   "outputs": [
    {
     "data": {
      "application/javascript": [
       "require([\"codemirror/keymap/sublime\", \"notebook/js/cell\", \"base/js/namespace\"],\n",
       "    function(sublime_keymap, cell, IPython) {\n",
       "        cell.Cell.options_default.cm_config.keyMap = 'sublime';\n",
       "        var cells = IPython.notebook.get_cells();\n",
       "        for(var cl=0; cl< cells.length ; cl++){\n",
       "            cells[cl].code_mirror.setOption('keyMap', 'sublime');\n",
       "        }\n",
       "    }\n",
       ");\n"
      ],
      "text/plain": [
       "<IPython.core.display.Javascript object>"
      ]
     },
     "metadata": {},
     "output_type": "display_data"
    }
   ],
   "source": [
    "%%javascript\n",
    "require([\"codemirror/keymap/sublime\", \"notebook/js/cell\", \"base/js/namespace\"],\n",
    "    function(sublime_keymap, cell, IPython) {\n",
    "        cell.Cell.options_default.cm_config.keyMap = 'sublime';\n",
    "        var cells = IPython.notebook.get_cells();\n",
    "        for(var cl=0; cl< cells.length ; cl++){\n",
    "            cells[cl].code_mirror.setOption('keyMap', 'sublime');\n",
    "        }\n",
    "    }\n",
    ");"
   ]
  },
  {
   "cell_type": "code",
   "execution_count": 2,
   "metadata": {},
   "outputs": [],
   "source": [
    "%load_ext autoreload\n",
    "%autoreload 2"
   ]
  },
  {
   "cell_type": "code",
   "execution_count": 3,
   "metadata": {},
   "outputs": [],
   "source": [
    "%matplotlib inline\n",
    "import matplotlib\n",
    "import matplotlib.pyplot as plt\n",
    "import matplotlib.gridspec as gridspec\n",
    "from matplotlib import gridspec\n",
    "from matplotlib import colors\n",
    "\n",
    "import os\n",
    "import re\n",
    "import numpy as np\n",
    "import pandas as pd\n",
    "import cooler\n",
    "\n",
    "import itertools\n"
   ]
  },
  {
   "cell_type": "code",
   "execution_count": 4,
   "metadata": {},
   "outputs": [],
   "source": [
    "import seaborn as sns"
   ]
  },
  {
   "cell_type": "code",
   "execution_count": 5,
   "metadata": {},
   "outputs": [],
   "source": [
    "import bioframe\n",
    "from bioframe.io import resources\n",
    "from bioframe import io"
   ]
  },
  {
   "cell_type": "code",
   "execution_count": 6,
   "metadata": {},
   "outputs": [],
   "source": [
    "# cooltools used dekkerlab-fork, develop-branch, commit-af508bba9c6577b8271b716ba27c330bead15981\n",
    "from cooler.tools import split, partition\n",
    "from functools import partial\n",
    "from cooltools import expected"
   ]
  },
  {
   "cell_type": "code",
   "execution_count": 7,
   "metadata": {},
   "outputs": [],
   "source": [
    "from helper_module import fillcolor_compartment_style, to_uscs, bar_signal, random_test, bar_path"
   ]
  },
  {
   "cell_type": "code",
   "execution_count": 8,
   "metadata": {},
   "outputs": [],
   "source": [
    "from cooltools import numutils\n",
    "from cooltools.eigdecomp import cooler_cis_eig"
   ]
  },
  {
   "cell_type": "code",
   "execution_count": 9,
   "metadata": {},
   "outputs": [
    {
     "data": {
      "image/png": "[encoded data removed]",
      "text/plain": [
       "<Figure size 144x72 with 1 Axes>"
      ]
     },
     "metadata": {
      "needs_background": "light"
     },
     "output_type": "display_data"
    },
    {
     "data": {
      "image/png": "[encoded data removed]",
      "text/plain": [
       "<Figure size 144x72 with 1 Axes>"
      ]
     },
     "metadata": {
      "needs_background": "light"
     },
     "output_type": "display_data"
    },
    {
     "data": {
      "image/png": "[encoded data removed]",
      "text/plain": [
       "<Figure size 144x72 with 1 Axes>"
      ]
     },
     "metadata": {
      "needs_background": "light"
     },
     "output_type": "display_data"
    }
   ],
   "source": [
    "sns.palplot(sns.color_palette([(0.6922722029988466, 0.09227220299884659, 0.1677047289504037),(0.12725874663590928, 0.3958477508650519, 0.6687427912341407)]))\n",
    "n_colors = 8\n",
    "sns.palplot([sns.color_palette(\"RdBu\", n_colors)[0],sns.color_palette(\"RdBu\", n_colors)[-1]])\n",
    "palet = [sns.color_palette(\"RdBu\", n_colors)[0],sns.color_palette(\"RdBu\", n_colors)[-1]]\n",
    "\n",
    "sns.palplot([sns.color_palette(\"Oranges\", n_colors)[-5],sns.color_palette(\"Blues\", n_colors)[-5]])\n",
    "palet2 = [sns.color_palette(\"Oranges\", n_colors)[-5],sns.color_palette(\"Blues\", n_colors)[-5]]"
   ]
  },
  {
   "cell_type": "code",
   "execution_count": 10,
   "metadata": {},
   "outputs": [],
   "source": [
    "cooler_names = [\n",
    "    'all-allele-spe-2percent-highcis.galGal5.mapq_30.1000.mcool',\n",
    "#     'all-allele-spe-1percent-highcis.galGal5.mapq_30.1000.mcool',\n",
    "    'MNP-DT40-1-3-16-2p-R1-T1__galGal5.galGal5.mapq_30.1000.mcool',\n",
    "#     'MNP-DT40-1-3-16-R2-T1__galGal5.galGal5.mapq_30.1000.mcool',\n",
    "    \n",
    "    'MNP-DT40-1-3-17-2p-R1-T1__galGal5.galGal5.mapq_30.1000.mcool',\n",
    "#     'MNP-DT40-1-3-17-R1-T1__galGal5.galGal5.mapq_30.1000.mcool',\n",
    "    \n",
    "    'MNP-DT40-WT1-R1-T1__galGal5.galGal5.mapq_30.1000.mcool',\n",
    "    'MNP-DT40-WT2-R1-T1__galGal5.galGal5.mapq_30.1000.mcool']"
   ]
  },
  {
   "cell_type": "markdown",
   "metadata": {},
   "source": [
    "### generate some nicer sample names from coolers ..."
   ]
  },
  {
   "cell_type": "code",
   "execution_count": 11,
   "metadata": {},
   "outputs": [
    {
     "data": {
      "text/html": [
       "<div>\n",
       "<style scoped>\n",
       "    .dataframe tbody tr th:only-of-type {\n",
       "        vertical-align: middle;\n",
       "    }\n",
       "\n",
       "    .dataframe tbody tr th {\n",
       "        vertical-align: top;\n",
       "    }\n",
       "\n",
       "    .dataframe thead th {\n",
       "        text-align: right;\n",
       "    }\n",
       "</style>\n",
       "<table border=\"1\" class=\"dataframe\">\n",
       "  <thead>\n",
       "    <tr style=\"text-align: right;\">\n",
       "      <th></th>\n",
       "      <th>sample</th>\n",
       "      <th>mcool</th>\n",
       "    </tr>\n",
       "  </thead>\n",
       "  <tbody>\n",
       "    <tr>\n",
       "      <th>0</th>\n",
       "      <td>pool-2percent-highcis</td>\n",
       "      <td>all-allele-spe-2percent-highcis.galGal5.mapq_3...</td>\n",
       "    </tr>\n",
       "    <tr>\n",
       "      <th>1</th>\n",
       "      <td>clone-16-2p</td>\n",
       "      <td>MNP-DT40-1-3-16-2p-R1-T1__galGal5.galGal5.mapq...</td>\n",
       "    </tr>\n",
       "    <tr>\n",
       "      <th>2</th>\n",
       "      <td>clone-17-2p</td>\n",
       "      <td>MNP-DT40-1-3-17-2p-R1-T1__galGal5.galGal5.mapq...</td>\n",
       "    </tr>\n",
       "    <tr>\n",
       "      <th>3</th>\n",
       "      <td>WT1</td>\n",
       "      <td>MNP-DT40-WT1-R1-T1__galGal5.galGal5.mapq_30.10...</td>\n",
       "    </tr>\n",
       "    <tr>\n",
       "      <th>4</th>\n",
       "      <td>WT2</td>\n",
       "      <td>MNP-DT40-WT2-R1-T1__galGal5.galGal5.mapq_30.10...</td>\n",
       "    </tr>\n",
       "  </tbody>\n",
       "</table>\n",
       "</div>"
      ],
      "text/plain": [
       "                  sample                                              mcool\n",
       "0  pool-2percent-highcis  all-allele-spe-2percent-highcis.galGal5.mapq_3...\n",
       "1            clone-16-2p  MNP-DT40-1-3-16-2p-R1-T1__galGal5.galGal5.mapq...\n",
       "2            clone-17-2p  MNP-DT40-1-3-17-2p-R1-T1__galGal5.galGal5.mapq...\n",
       "3                    WT1  MNP-DT40-WT1-R1-T1__galGal5.galGal5.mapq_30.10...\n",
       "4                    WT2  MNP-DT40-WT2-R1-T1__galGal5.galGal5.mapq_30.10..."
      ]
     },
     "execution_count": 11,
     "metadata": {},
     "output_type": "execute_result"
    }
   ],
   "source": [
    "# multiqc learnings here, btw!...\n",
    "renamings = {\"all-allele-spe\":\"pool\",\n",
    "            \".galGal5.mapq_30.1000.mcool\":\"\",\n",
    "            \"MNP-DT40-\":\"\",\n",
    "            \"-T1__galGal5\":\"\",\n",
    "            \"-R1\":\"\",\n",
    "            \"1-3-\":\"clone-\"}\n",
    "\n",
    "sample_names = []\n",
    "for c in cooler_names:\n",
    "    for rf,rt in renamings.items():\n",
    "        c = re.sub(rf,rt,c)\n",
    "    sample_names.append(c)\n",
    "\n",
    "# sample_names\n",
    "\n",
    "# form a df of samples here:\n",
    "samples = pd.DataFrame({\"sample\":sample_names,\"mcool\":cooler_names})\n",
    "\n",
    "samples"
   ]
  },
  {
   "cell_type": "code",
   "execution_count": 12,
   "metadata": {},
   "outputs": [],
   "source": [
    "# READ SOME COOLERS ...\n",
    "binsize = 100_000\n",
    "\n",
    "res_human = f\"{int(binsize/1000)}kb\"\n",
    "\n",
    "# oldref-20200617\n",
    "cool_path = \"/home/venevs/DOTS_TESTING/alv-chicken/oldref-20200617\"\n",
    "get_cpath = lambda c,b: os.path.join(cool_path,c+f\"::/resolutions/{b}\")\n",
    "\n",
    "samples[\"cool\"] = [cooler.Cooler(get_cpath(c,binsize)) for c in samples[\"mcool\"]]\n",
    "samples[\"sum\"] = [s.info[\"sum\"] for s in samples[\"cool\"]]"
   ]
  },
  {
   "cell_type": "code",
   "execution_count": 13,
   "metadata": {},
   "outputs": [],
   "source": [
    "clr, = samples[\"cool\"][samples[\"sample\"] == \"pool-2percent-highcis\"].values\n",
    "clr100, = samples[\"cool\"][samples[\"sample\"] == \"pool-2percent-highcis\"].values\n",
    "\n",
    "chrom = \"chr1\"\n",
    "parm = (chrom,0,74626886)\n",
    "qarm = (chrom,75126886,196202544)\n",
    "centro = (chrom,74626886,75126886)\n",
    "balance = True\n",
    "\n",
    "# bad_bins = None\n",
    "ignore_diags = 2\n",
    "theregion=parm\n",
    "theregion_name=\"parm\"\n",
    "\n",
    "# prevent beta-actin promoter mismappings:\n",
    "# (chrom,194_569_534,194_570_623)\n",
    "bad_bin_regions = [(chrom,9_000_000,9_500_000),(chrom,32_270_000,32_770_000), (chrom,194_569_534,194_570_623)]\n",
    "bad_bins = np.concatenate([np.arange(*clr.extent(_bb)) for _bb in bad_bin_regions])\n",
    "\n",
    "locus_bin=72_500_000\n",
    "ins_row = clr.offset((chrom,locus_bin,locus_bin+binsize))\n",
    "\n",
    "weight_name = \"weight\"\n",
    "weight1 = weight_name + \"1\"\n",
    "weight2 = weight_name + \"2\"\n",
    "transforms = {\"balanced\": lambda p: p[\"count\"] * p[weight1] * p[weight2]}"
   ]
  },
  {
   "cell_type": "markdown",
   "metadata": {},
   "source": [
    "### read replication timing to use as a phasing track (only `chr1` is available)"
   ]
  },
  {
   "cell_type": "code",
   "execution_count": 14,
   "metadata": {},
   "outputs": [],
   "source": [
    "val_rt = io.read_table(\n",
    "    \"/home/venevs/DOTS_TESTING/alv-chicken/timing_wt.bed\",\n",
    "    schema=\"bedGraph\",\n",
    "    skiprows=1\n",
    ")\n",
    "\n",
    "bins = clr.bins().fetch(chrom).copy()\n",
    "\n",
    "# overlap RT signal with our bins ...\n",
    "binned_rt = bioframe.ops.overlap(bins, val_rt, suffixes=['', '_rt']) \\\n",
    "    .drop(labels=[\"chrom_rt\",\"start_rt\",\"end_rt\",\"weight\"],axis=\"columns\") \\\n",
    "    .fillna(np.nan) # addressing pd.NA issue with this\n",
    "\n",
    "# finally :\n",
    "binned_rt = binned_rt \\\n",
    "    .groupby([\"chrom\",\"start\",\"end\"],observed=True,sort=False) \\\n",
    "    .mean() \\\n",
    "    .reset_index()"
   ]
  },
  {
   "cell_type": "markdown",
   "metadata": {},
   "source": [
    "### compute compartments per arm masking bad bins ..."
   ]
  },
  {
   "cell_type": "code",
   "execution_count": 15,
   "metadata": {},
   "outputs": [
    {
     "data": {
      "text/plain": [
       "(0.0, 1963.0)"
      ]
     },
     "execution_count": 15,
     "metadata": {},
     "output_type": "execute_result"
    },
    {
     "data": {
      "image/png": "[encoded data removed]",
      "text/plain": [
       "<Figure size 720x288 with 2 Axes>"
      ]
     },
     "metadata": {
      "needs_background": "light"
     },
     "output_type": "display_data"
    }
   ],
   "source": [
    "eigvals1, eigvec_table1 = cooler_cis_eig(\n",
    "    clr=clr,\n",
    "    bins=binned_rt,\n",
    "    regions= [parm, qarm],\n",
    "    n_eigs=2,\n",
    "    bad_bins = bad_bins,\n",
    "    phasing_track_col=\"value_rt\",\n",
    "    clip_percentile=99.9,\n",
    "    sort_metric=None,\n",
    ")\n",
    "\n",
    "# plot it, just in case:\n",
    "f = plt.figure(figsize=(10,4))\n",
    "ax = f.add_subplot(2,1,1)\n",
    "axrt = f.add_subplot(2,1,2)\n",
    "fillcolor_compartment_style(eigvec_table1[\"E1\"], ax)\n",
    "for bb in bad_bins:\n",
    "    ax.axvline(bb)\n",
    "\n",
    "fillcolor_compartment_style(binned_rt[\"value_rt\"], axrt, color_less=\"steelblue\", color_more=\"darkorange\")\n",
    "\n",
    "ax.set_ylabel(\"EV1\")\n",
    "axrt.set_ylabel(\"RT\")\n",
    "ax.set_xlim(*clr.extent(chrom))\n",
    "axrt.set_xlim(*clr.extent(chrom))"
   ]
  },
  {
   "cell_type": "markdown",
   "metadata": {},
   "source": [
    "### calculate expecteds the new way ...\n",
    "\n",
    "#### Actually it seems that we shouldn't be changing the input cooler starting from here - otherwise the exepcted would not correspond to OBS, etc"
   ]
  },
  {
   "cell_type": "code",
   "execution_count": 16,
   "metadata": {},
   "outputs": [],
   "source": [
    "# we could redefine cooler file here:\n",
    "#  but after that it is fixed:\n",
    "# clr = samples[\"cool\"][0]\n",
    "# samplez = \"clone-16-2p\" # pool-2percent-highcis\n",
    "samplez = \"pool-2percent-highcis\"\n",
    "clr, = samples[\"cool\"][samples[\"sample\"] == samplez].values"
   ]
  },
  {
   "cell_type": "code",
   "execution_count": 17,
   "metadata": {},
   "outputs": [],
   "source": [
    "import multiprocess as mp\n",
    "\n",
    "nproc = 4\n",
    "\n",
    "# matching regions: p-arm        pq-inter arm            chr1-wide ...\n",
    "left_regions  = [(*parm,'parm'),(*parm,'parm'),(\"chr1\",0,clr.chromsizes[\"chr1\"],\"chr1\")]\n",
    "right_regions = [(*parm,'parm'),(*qarm,'qarm'),(\"chr1\",0,clr.chromsizes[\"chr1\"],\"chr1\")]\n",
    "# execution details\n",
    "if nproc > 1:\n",
    "    pool = mp.Pool(nproc)\n",
    "    \n",
    "    map_ = pool.map\n",
    "else:\n",
    "    map_ = map\n",
    "\n",
    "exp_df_bad = expected.diagsum_asymm(clr,\n",
    "                 regions1 = left_regions,\n",
    "                 regions2 = right_regions,\n",
    "                 transforms=transforms,\n",
    "                 weight_name='weight',\n",
    "                 bad_bins=bad_bins,\n",
    "                 map = map_)\n",
    "exp_df_bad[\"balanced.avg\"] = exp_df_bad[\"balanced.sum\"]/exp_df_bad[\"n_valid\"]\n",
    "exp_grp_bad = exp_df_bad.groupby([\"region1\",\"region2\"])\n",
    "# extract several expecteds for different regions ...\n",
    "parm_exp_bad = exp_grp_bad.get_group((\"parm\",\"parm\"))\n",
    "pqarm_exp_bad = exp_grp_bad.get_group((\"parm\",\"qarm\"))\n",
    "chr1_exp_bad = exp_grp_bad.get_group((\"chr1\",\"chr1\"))\n",
    "\n",
    "\n",
    "exp_df_bad_raw = expected.diagsum_asymm(clr,\n",
    "                     regions1 = left_regions,\n",
    "                     regions2 = right_regions,\n",
    "                     transforms={},\n",
    "                     weight_name=None,\n",
    "                     bad_bins=bad_bins,\n",
    "                     map = map_)\n",
    "exp_df_bad_raw[\"count.avg\"] = exp_df_bad_raw[\"count.sum\"]/exp_df_bad_raw[\"n_valid\"]\n",
    "exp_df_bad_raw_grp = exp_df_bad_raw.groupby([\"region1\",\"region2\"])\n",
    "# extract several expecteds for different regions ...\n",
    "parm_exp_bad_raw = exp_df_bad_raw_grp.get_group((\"parm\",\"parm\"))\n",
    "pqarm_exp_bad_raw = exp_df_bad_raw_grp.get_group((\"parm\",\"qarm\"))\n",
    "chr1_exp_bad_raw = exp_df_bad_raw_grp.get_group((\"chr1\",\"chr1\"))\n",
    "\n",
    "\n",
    "pool.close()\n"
   ]
  },
  {
   "cell_type": "markdown",
   "metadata": {},
   "source": [
    "## now to allele1/2 ...\n",
    "\n",
    "generating appropriate `expecteds` for p and q arms, for the insertion site"
   ]
  },
  {
   "cell_type": "code",
   "execution_count": 18,
   "metadata": {},
   "outputs": [
    {
     "name": "stdout",
     "output_type": "stream",
     "text": [
      "(747, 1212)\n"
     ]
    }
   ],
   "source": [
    "chr1_parm = to_uscs(parm)\n",
    "chr1_qarm = to_uscs(qarm)\n",
    "# shape of the inter-arm heatmap ...\n",
    "lo,hi = clr.extent(parm)\n",
    "psize = hi-lo\n",
    "lo,hi = clr.extent(qarm)\n",
    "qsize = hi-lo\n",
    "shape = (psize,qsize)\n",
    "print(shape)\n",
    "\n",
    "# this function that 1D exepcted to rectangular - for pq-expected\n",
    "get_cr = lambda e, shape : (e[shape[0]-1::-1], e[shape[0]-1:])\n",
    "\n",
    "# balanced expecteds ...\n",
    "pqexp = numutils.LazyToeplitz(*get_cr(pqarm_exp_bad[\"balanced.avg\"].values, shape))\n",
    "pexp = numutils.LazyToeplitz(parm_exp_bad[\"balanced.avg\"])\n",
    "chr1exp = numutils.LazyToeplitz(chr1_exp_bad[\"balanced.avg\"])\n",
    "\n",
    "# raw expecteds ...\n",
    "pqexp_raw = numutils.LazyToeplitz(*get_cr(pqarm_exp_bad_raw[\"count.avg\"].values, shape))\n",
    "pexp_raw = numutils.LazyToeplitz(parm_exp_bad_raw[\"count.avg\"])\n",
    "chr1exp_raw = numutils.LazyToeplitz(chr1_exp_bad_raw[\"count.avg\"])\n",
    "\n",
    "# some very stupid check:\n",
    "# the following must be always true, though - as it accounts for the centromere size\n",
    "assumption = np.diff(clr.extent(parm))+np.diff(clr.extent(centro))+np.diff(clr.extent(qarm))-2 == np.diff(clr.extent(chrom))\n",
    "assert assumption"
   ]
  },
  {
   "cell_type": "markdown",
   "metadata": {},
   "source": [
    "### let's extract allele1/2-related observed, expected and weights ..."
   ]
  },
  {
   "cell_type": "code",
   "execution_count": 19,
   "metadata": {},
   "outputs": [],
   "source": [
    "  \n",
    "# WE ARE NOT GOING TO USE THE WEIGHTS FOR THE ALLELE1/2 ITSELF ...\n",
    "# AS IT IS UNCLEAR - WHAT THEY REFLECT - ALLELE1 AND ALLELE2 AREN'T COMPARABLE\n",
    "# THEMSELVES , ONLY HOW THEY INTERACT WITH THE REST OF THE GENOME ...\n",
    "# wa1, = clr.bins().fetch(\"allele1\")[\"weight\"]\n",
    "# wa2, = clr.bins().fetch(\"allele2\")[\"weight\"]\n",
    "                \n",
    "\n",
    "# allele1/2 observed - raw:\n",
    "obs_r_a1_1p, = clr.matrix(balance=False).fetch(\"allele1\",chr1_parm)\n",
    "obs_r_a1_1q, = clr.matrix(balance=False).fetch(\"allele1\",chr1_qarm)\n",
    "\n",
    "obs_r_a2_1p, = clr.matrix(balance=False).fetch(\"allele2\",chr1_parm)\n",
    "obs_r_a2_1q, = clr.matrix(balance=False).fetch(\"allele2\",chr1_qarm)\n",
    "\n",
    "# balancing weights p-arm with bad_bins applied ...\n",
    "wp = clr.bins().fetch(chr1_parm)[weight_name].values\n",
    "lo,hi = clr.extent(chr1_parm)\n",
    "bad_bins_parm = bad_bins[(bad_bins>=lo)&(bad_bins<hi)] - lo\n",
    "if len(bad_bins_parm) > 0:\n",
    "    wp[bad_bins_parm] = np.nan\n",
    "    \n",
    "# we also need to exclude 2 bins in the vicinity of the insertion site:\n",
    "wp[ins_row-1:ins_row+2] = np.nan\n",
    "\n",
    "# balancing weights q-arm with bad_bins masking applied ...\n",
    "wq = clr.bins().fetch(chr1_qarm)[weight_name].values\n",
    "lo,hi = clr.extent(chr1_qarm)\n",
    "bad_bins_qarm = bad_bins[(bad_bins>=lo)&(bad_bins<hi)] - lo\n",
    "if len(bad_bins_qarm) > 0:\n",
    "    wq[bad_bins_qarm] = np.nan\n",
    "    \n",
    "\n",
    "# p-arm expected balanced al1 and al2 are the same because insertion sites is really close (+/- 1kb):\n",
    "exp_b_a1a2_1p = pexp[:,ins_row].flatten()\n",
    "exp_b_a1a2_1p_chr1 = chr1exp[:psize,ins_row].flatten()\n",
    "# p-arm expected raw al1 and al2 are the same because insertion sites is really close (+/- 1kb):\n",
    "exp_r_a1a2_1p = pexp_raw[:,ins_row].flatten()\n",
    "exp_r_a1a2_1p_chr1 = chr1exp_raw[:psize,ins_row].flatten()\n",
    "\n",
    "# q-arm expected balanced al1 and al2 are the same because insertion sites is really close (+/- 1kb):\n",
    "exp_b_a1a2_1q = pqexp[ins_row,:].flatten()\n",
    "exp_b_a1a2_1q_chr1 = chr1exp[-qsize:,ins_row].flatten()\n",
    "# q-arm expected balanced al1 and al2 are the same because insertion sites is really close (+/- 1kb):\n",
    "exp_r_a1a2_1q = pqexp_raw[ins_row,:].flatten()\n",
    "exp_r_a1a2_1q_chr1 = chr1exp_raw[-qsize:,ins_row].flatten()\n"
   ]
  },
  {
   "cell_type": "markdown",
   "metadata": {},
   "source": [
    "### swarm/bar-plot demonstrating main result in the main figure"
   ]
  },
  {
   "cell_type": "code",
   "execution_count": 20,
   "metadata": {},
   "outputs": [
    {
     "name": "stderr",
     "output_type": "stream",
     "text": [
      "/home/venevs/DOTS_TESTING/alv-chicken/allelic-rt-supplement/helper_module.py:66: RuntimeWarning: invalid value encountered in greater_equal\n",
      "  oe1 = np.nanmean(oe[signal >= thresh])\n",
      "/home/venevs/DOTS_TESTING/alv-chicken/allelic-rt-supplement/helper_module.py:67: RuntimeWarning: invalid value encountered in greater_equal\n",
      "  oe2 = np.nanmean(oe[(signal >= -thresh)&(signal < thresh)])\n",
      "/home/venevs/DOTS_TESTING/alv-chicken/allelic-rt-supplement/helper_module.py:67: RuntimeWarning: invalid value encountered in less\n",
      "  oe2 = np.nanmean(oe[(signal >= -thresh)&(signal < thresh)])\n",
      "/home/venevs/DOTS_TESTING/alv-chicken/allelic-rt-supplement/helper_module.py:68: RuntimeWarning: invalid value encountered in less\n",
      "  oe3 = np.nanmean(oe[signal < -thresh])\n"
     ]
    }
   ],
   "source": [
    "# main inputs:\n",
    "# compartments:\n",
    "cmp_vals = eigvec_table1[\"E1\"].values\n",
    "\n",
    "p_range_zoom=clr.extent(chr1_parm)\n",
    "q_range_zoom=clr.extent(chr1_qarm)\n",
    "sub_frac = 1.\n",
    "threshold = 0.09\n",
    "balanced=True\n",
    "OE=True\n",
    "num_permutations = 800\n",
    "samplez = samples[\"sample\"].values\n",
    "\n",
    "# extract balancing weights for\n",
    "# alleles 1 and 2 - they are meaningless I guess\n",
    "# they only reflect - the total # of interactions\n",
    "# between allele1/2 and chr1\n",
    "wa2, = clr.bins().fetch(\"allele2\")[\"weight\"]\n",
    "wa1, = clr.bins().fetch(\"allele1\")[\"weight\"]\n",
    "# we'll try to use only allele2 balancing weight, since\n",
    "# after subsampling # of pairs per allele1/2 should be\n",
    "# more or less equal\n",
    "if sub_frac < 0.9:\n",
    "    print(\"Beware! Once you start subsampling allele1 data, consider adjusting wa1 ...\")\n",
    "    pass\n",
    "    wa1 = wa2\n",
    "\n",
    "\n",
    "\n",
    "# now let's do a bunch of subsamplings and a bunch of randomizations to extract average OEs:\n",
    "obs_average = []\n",
    "rnd_average = []\n",
    "for ii in range(1):\n",
    "    d1 = {}\n",
    "    d2 = {}\n",
    "    # p-arm data:\n",
    "    d1[\"parm\"] = np.random.binomial(obs_r_a1_1p,sub_frac).T\n",
    "    d2[\"parm\"] = obs_r_a2_1p\n",
    "    if balanced:\n",
    "        d1[\"parm\"] = d1[\"parm\"] * wp * wa1\n",
    "        d2[\"parm\"] = d2[\"parm\"] * wp * wa2\n",
    "        ep12 = exp_b_a1a2_1p\n",
    "        epc12 = exp_b_a1a2_1p_chr1\n",
    "    else:\n",
    "        ep12 = exp_r_a1a2_1p\n",
    "        epc12 = exp_r_a1a2_1p_chr1\n",
    "    if OE:\n",
    "        # only arm level expected ...\n",
    "        d1[\"parm\"] = d1[\"parm\"] / ep12\n",
    "        d2[\"parm\"] = d2[\"parm\"] / ep12\n",
    "    # q-arm data:\n",
    "    d1[\"qarm\"] = np.random.binomial(obs_r_a1_1q,sub_frac).T\n",
    "    d2[\"qarm\"] = obs_r_a2_1q\n",
    "    if balanced:\n",
    "        d1[\"qarm\"] = d1[\"qarm\"] * wq * wa1\n",
    "        d2[\"qarm\"] = d2[\"qarm\"] * wq * wa2\n",
    "        epq12 = exp_b_a1a2_1q\n",
    "        epqc12 = exp_b_a1a2_1q_chr1\n",
    "    else:\n",
    "        epq12 = exp_r_a1a2_1q\n",
    "        epqc12 = exp_r_a1a2_1q_chr1\n",
    "    if OE:\n",
    "        # only arm level expected ...\n",
    "        d1[\"qarm\"] = d1[\"qarm\"] / epq12\n",
    "        d2[\"qarm\"] = d2[\"qarm\"] / epq12\n",
    "\n",
    "    # adjust everything to the visible region:\n",
    "    # compartments:\n",
    "    cmpp = cmp_vals[slice(*p_range_zoom)]\n",
    "    # adjust everything to the visible region:\n",
    "    cmpq = cmp_vals[slice(*q_range_zoom)]\n",
    "    q_range_zoom_rel = [_-clr.offset(chr1_qarm) for _ in q_range_zoom]\n",
    "\n",
    "    \n",
    "    for locus, _OE in zip([\"allele1\",\"allele2\"], [d1,d2]):\n",
    "        for region, regzoom, _cmp in zip([\"parm\",\"qarm\"],[p_range_zoom,q_range_zoom_rel], [cmpp,cmpq]):\n",
    "            aa = bar_signal(_OE[region][slice(*regzoom)], _cmp, threshold)\n",
    "            aa[\"locus\"] = locus\n",
    "            aa[\"region\"] = region\n",
    "            obs_average.append(aa)\n",
    "\n",
    "    for locus, _OE in zip([\"allele1\",\"allele2\"], [d1,d2]):\n",
    "        for region, regzoom, _cmp in zip([\"parm\",\"qarm\"],[p_range_zoom,q_range_zoom_rel], [cmpp,cmpq]):\n",
    "            rnd = random_test(_OE[region][slice(*p_range_zoom)], cmpp, num_permutations, threshold,cyclic=False)\n",
    "            rnd[\"locus\"] = locus\n",
    "            rnd[\"region\"] = region\n",
    "            rnd_average.append(rnd)\n",
    "\n",
    "obs_avg_df = pd.concat(obs_average)\n",
    "rnd_avg_df = pd.concat(rnd_average)\n",
    "\n",
    "# let's filter out AB category - i.e. neither A nor B from consideration:\n",
    "obs_avg_df = obs_avg_df.loc[~obs_avg_df[\"set\"].eq(\"AB\")]\n",
    "rnd_avg_df = rnd_avg_df.loc[~rnd_avg_df[\"set\"].eq(\"AB\")]"
   ]
  },
  {
   "cell_type": "code",
   "execution_count": 21,
   "metadata": {
    "scrolled": false
   },
   "outputs": [
    {
     "data": {
      "text/html": [
       "<div>\n",
       "<style scoped>\n",
       "    .dataframe tbody tr th:only-of-type {\n",
       "        vertical-align: middle;\n",
       "    }\n",
       "\n",
       "    .dataframe tbody tr th {\n",
       "        vertical-align: top;\n",
       "    }\n",
       "\n",
       "    .dataframe thead th {\n",
       "        text-align: right;\n",
       "    }\n",
       "</style>\n",
       "<table border=\"1\" class=\"dataframe\">\n",
       "  <thead>\n",
       "    <tr style=\"text-align: right;\">\n",
       "      <th></th>\n",
       "      <th>region</th>\n",
       "      <th>parm</th>\n",
       "      <th>qarm</th>\n",
       "    </tr>\n",
       "    <tr>\n",
       "      <th>locus</th>\n",
       "      <th>set</th>\n",
       "      <th></th>\n",
       "      <th></th>\n",
       "    </tr>\n",
       "  </thead>\n",
       "  <tbody>\n",
       "    <tr>\n",
       "      <th rowspan=\"2\" valign=\"top\">allele1</th>\n",
       "      <th>A</th>\n",
       "      <td>1.091200</td>\n",
       "      <td>1.150571</td>\n",
       "    </tr>\n",
       "    <tr>\n",
       "      <th>B</th>\n",
       "      <td>0.261803</td>\n",
       "      <td>0.362818</td>\n",
       "    </tr>\n",
       "    <tr>\n",
       "      <th rowspan=\"2\" valign=\"top\">allele2</th>\n",
       "      <th>A</th>\n",
       "      <td>0.577768</td>\n",
       "      <td>0.837704</td>\n",
       "    </tr>\n",
       "    <tr>\n",
       "      <th>B</th>\n",
       "      <td>0.528064</td>\n",
       "      <td>0.383987</td>\n",
       "    </tr>\n",
       "  </tbody>\n",
       "</table>\n",
       "</div>"
      ],
      "text/plain": [
       "region           parm      qarm\n",
       "locus   set                    \n",
       "allele1 A    1.091200  1.150571\n",
       "        B    0.261803  0.362818\n",
       "allele2 A    0.577768  0.837704\n",
       "        B    0.528064  0.383987"
      ]
     },
     "execution_count": 21,
     "metadata": {},
     "output_type": "execute_result"
    }
   ],
   "source": [
    "obs_avg_df \\\n",
    "    .groupby([\"locus\",\"set\",\"region\"])[\"OE\"] \\\n",
    "    .mean() \\\n",
    "    .unstack()"
   ]
  },
  {
   "cell_type": "code",
   "execution_count": 22,
   "metadata": {},
   "outputs": [
    {
     "data": {
      "image/png": "[encoded data removed]",
      "text/plain": [
       "<Figure size 216x288 with 4 Axes>"
      ]
     },
     "metadata": {
      "needs_background": "light"
     },
     "output_type": "display_data"
    }
   ],
   "source": [
    "fx = plt.figure(figsize=(3,4),constrained_layout=True)\n",
    "spx = gridspec.GridSpec(ncols=2,\n",
    "                       nrows=2,\n",
    "                       width_ratios=[1,1],\n",
    "                       figure=fx\n",
    "                      )\n",
    "\n",
    "ax1 = fx.add_subplot(spx[0,0])\n",
    "ax2 = fx.add_subplot(spx[0,1],sharey=ax1)\n",
    "\n",
    "ax1q = fx.add_subplot(spx[1,0])\n",
    "ax2q = fx.add_subplot(spx[1,1],sharey=ax1q)\n",
    "\n",
    "\n",
    "grp = rnd_avg_df.groupby([\"locus\",\"region\"])\n",
    "vis_kwargs = dict(alpha=.5,palette=palet)\n",
    "sns.stripplot(x=\"set\", y=\"OE\", data=grp.get_group((\"allele1\",\"parm\")), ax=ax1, **vis_kwargs)\n",
    "sns.stripplot(x=\"set\", y=\"OE\", data=grp.get_group((\"allele2\",\"parm\")), ax=ax2, **vis_kwargs)\n",
    "\n",
    "sns.stripplot(x=\"set\", y=\"OE\", data=grp.get_group((\"allele1\",\"qarm\")), ax=ax1q, **vis_kwargs)\n",
    "sns.stripplot(x=\"set\", y=\"OE\", data=grp.get_group((\"allele2\",\"qarm\")), ax=ax2q, **vis_kwargs)\n",
    "\n",
    "\n",
    "grp = obs_avg_df.groupby([\"locus\",\"region\"])\n",
    "vis_kwargs = dict(marker=bar_path,jitter=False,s=18,alpha=1.)\n",
    "sns.stripplot(x=\"set\", y=\"OE\", data=grp.get_group((\"allele1\",\"parm\")), ax=ax1, color=palet2[0], **vis_kwargs)\n",
    "sns.stripplot(x=\"set\", y=\"OE\", data=grp.get_group((\"allele2\",\"parm\")), ax=ax2, color=palet2[1], **vis_kwargs)\n",
    "\n",
    "sns.stripplot(x=\"set\", y=\"OE\", data=grp.get_group((\"allele1\",\"qarm\")), ax=ax1q, color=palet2[0], **vis_kwargs)\n",
    "sns.stripplot(x=\"set\", y=\"OE\", data=grp.get_group((\"allele2\",\"qarm\")), ax=ax2q, color=palet2[1], **vis_kwargs)\n",
    "\n",
    "# ax1.set_ylim(2,10)\n",
    "# ax2.set_ylim(2,10)\n",
    "ax2.set_ylabel(\"\")\n",
    "ax2.set_xlabel(\"\")\n",
    "# ax2.tick_params(left=False,labelleft=False,bottom=False,labelbottom=False)\n",
    "ax2.tick_params(left=False,labelleft=False)\n",
    "\n",
    "ax1.set_xlabel(\"\")\n",
    "# ax1.tick_params(bottom=False,labelbottom=False)\n",
    "# ax1.tick_params(bottom=False,labelbottom=False)\n",
    "\n",
    "ax2q.set_ylabel(\"\")\n",
    "ax2q.tick_params(left=False,labelleft=False)\n",
    "\n",
    "ax1.set_ylabel(\"norm. interactions, OE\")\n",
    "ax1q.set_ylabel(\"norm. interactions, OE\")\n",
    "\n",
    "ax2q.set_xlabel(\"\")\n",
    "ax1q.set_xlabel(\"\")\n",
    "\n",
    "\n",
    "\n",
    "# # legs = plt.legend([hhh[0],hhh[1],aba],[\"randomized EV1\",\"randomized EV1\",\"calculated EV1\"],frameon=False)\n",
    "# # for leg in legs.legendHandles:\n",
    "# #     leg.set_alpha(0.9)\n",
    "# # plt.gca().set_ylabel(\"OE\")\n",
    "# # plt.gcf().set_size_inches(4,4)\n",
    "plt.savefig(\"average_AB.pdf\")"
   ]
  },
  {
   "cell_type": "markdown",
   "metadata": {},
   "source": [
    "### calculate \"significance\"/p-value for preference of alleles with A or B compartment (by arm)...\n",
    "\n",
    "number of randomize observations that \"exceed\" the preference\n",
    "divided by the total number of randomized observations ...\n",
    "\n",
    "\n",
    "can be done for difference of A/B preferences or for the ratio of those\n",
    "`obs_avg.loc[\"A\",\"OE\"] - obs_avg.loc[\"B\",\"OE\"]`\n",
    "\n",
    "`obs_avg.loc[\"A\",\"OE\"] / obs_avg.loc[\"B\",\"OE\"]`\n"
   ]
  },
  {
   "cell_type": "code",
   "execution_count": 23,
   "metadata": {},
   "outputs": [
    {
     "name": "stderr",
     "output_type": "stream",
     "text": [
      "/home/venevs/miniconda3/envs/newexp/lib/python3.7/site-packages/ipykernel_launcher.py:15: DeprecationWarning: Passing normed=False is deprecated, and has no effect. Consider passing the density argument instead.\n",
      "  from ipykernel import kernelapp as app\n"
     ]
    },
    {
     "name": "stdout",
     "output_type": "stream",
     "text": [
      "allele1 parm p-value=0.0\n",
      "allele1 qarm p-value=0.0\n",
      "allele2 parm p-value=0.29\n",
      "allele2 qarm p-value=0.00125\n"
     ]
    },
    {
     "data": {
      "image/png": "[encoded data removed]",
      "text/plain": [
       "<Figure size 432x288 with 1 Axes>"
      ]
     },
     "metadata": {
      "needs_background": "light"
     },
     "output_type": "display_data"
    }
   ],
   "source": [
    "for _allele, _region in itertools.product([\"allele1\",\"allele2\"],[\"parm\",\"qarm\"]):\n",
    "    grp = obs_avg_df.groupby([\"locus\",\"region\"])\n",
    "    obs_avg = grp.get_group((_allele,_region))\n",
    "    obs_avg = obs_avg.set_index(\"set\")\n",
    "    delta_obs = obs_avg.loc[\"A\",\"OE\"] - obs_avg.loc[\"B\",\"OE\"]\n",
    "\n",
    "    grp = rnd_avg_df.groupby([\"locus\",\"region\"])\n",
    "    _df = grp.get_group((_allele,_region))\n",
    "    A_idx = (_df[\"set\"]==\"A\")\n",
    "    B_idx = (_df[\"set\"]==\"B\")\n",
    "    delta_rnd = _df[A_idx][\"OE\"].values - _df[B_idx][\"OE\"].values\n",
    "    \n",
    "    num_bins = 100\n",
    "    # Use the histogram function to bin the data\n",
    "    counts, bin_edges = np.histogram(delta_rnd, bins=num_bins, normed=False)\n",
    "\n",
    "    plt.bar(bin_edges[:-1],counts,width=np.diff(bin_edges)[0]*0.8)\n",
    "    plt.gca().axvline(delta_obs, color=\"green\")\n",
    "\n",
    "    total = np.sum(counts)\n",
    "    cond = np.sum(counts[bin_edges[:-1]>delta_obs])\n",
    "\n",
    "    print(f\"{_allele} {_region} p-value={cond/total}\")"
   ]
  },
  {
   "cell_type": "markdown",
   "metadata": {},
   "source": [
    "### trying to make an overview picture of the allele1/allel2 signal"
   ]
  },
  {
   "cell_type": "markdown",
   "metadata": {},
   "source": [
    "### re-read coolers at lower resolution, and generate the average OE profile figure\n",
    "\n",
    "lots of copy paste, but what can you do, you know ?!"
   ]
  },
  {
   "cell_type": "code",
   "execution_count": 24,
   "metadata": {},
   "outputs": [],
   "source": [
    "# READ SOME COOLERS ...\n",
    "binsize = 500_000\n",
    "res_human = f\"{int(binsize/1000)}kb\"\n",
    "\n",
    "get_cpath = lambda c,b: os.path.join(cool_path,c+f\"::/resolutions/{b}\")\n",
    "samples[\"cool\"] = [cooler.Cooler(get_cpath(c,binsize)) for c in samples[\"mcool\"]]\n",
    "#\n",
    "# define input\n",
    "samplez = \"pool-2percent-highcis\"\n",
    "clr, = samples[\"cool\"][samples[\"sample\"] == samplez].values"
   ]
  },
  {
   "cell_type": "code",
   "execution_count": 25,
   "metadata": {},
   "outputs": [],
   "source": [
    "chrom = \"chr1\"\n",
    "parm = (chrom,0,74626886)\n",
    "qarm = (chrom,75126886,196202544)\n",
    "centro = (chrom,74626886,75126886)\n",
    "balance = True\n",
    "\n",
    "# bad_bins = None\n",
    "ignore_diags = 2\n",
    "theregion=parm\n",
    "theregion_name=\"parm\"\n",
    "\n",
    "# prevent beta-actin promoter mismappings:\n",
    "# (chrom,194_569_534,194_570_623)\n",
    "bad_bin_regions = [(chrom,9_000_000,9_500_000),(chrom,32_270_000,32_770_000), (chrom,194_569_534,194_570_623)]\n",
    "bad_bins = np.concatenate([np.arange(*clr.extent(_bb)) for _bb in bad_bin_regions])\n",
    "\n",
    "locus_bin=72_500_000\n",
    "ins_row = clr.offset((chrom,locus_bin,locus_bin+binsize))\n",
    "\n",
    "weight_name = \"weight\"\n",
    "weight1 = weight_name + \"1\"\n",
    "weight2 = weight_name + \"2\"\n",
    "transforms = {\"balanced\": lambda p: p[\"count\"] * p[weight1] * p[weight2]}"
   ]
  },
  {
   "cell_type": "code",
   "execution_count": 26,
   "metadata": {},
   "outputs": [],
   "source": [
    "nproc = 4\n",
    "# matching regions: p-arm        pq-inter arm            chr1-wide ...\n",
    "left_regions  = [(*parm,'parm'),(*parm,'parm'),(\"chr1\",0,clr.chromsizes[\"chr1\"],\"chr1\")]\n",
    "right_regions = [(*parm,'parm'),(*qarm,'qarm'),(\"chr1\",0,clr.chromsizes[\"chr1\"],\"chr1\")]\n",
    "# execution details\n",
    "if nproc > 1:\n",
    "    pool = mp.Pool(nproc)\n",
    "    map_ = pool.map\n",
    "else:\n",
    "    map_ = map\n",
    "#\n",
    "exp_df_bad = expected.diagsum_asymm(clr,\n",
    "                 regions1 = left_regions,\n",
    "                 regions2 = right_regions,\n",
    "                 transforms=transforms,\n",
    "                 weight_name='weight',\n",
    "                 bad_bins=bad_bins,\n",
    "                 map = map_)\n",
    "exp_df_bad[\"balanced.avg\"] = exp_df_bad[\"balanced.sum\"]/exp_df_bad[\"n_valid\"]\n",
    "exp_grp_bad = exp_df_bad.groupby([\"region1\",\"region2\"])\n",
    "# extract several expecteds for different regions ...\n",
    "parm_exp_bad = exp_grp_bad.get_group((\"parm\",\"parm\"))\n",
    "pqarm_exp_bad = exp_grp_bad.get_group((\"parm\",\"qarm\"))\n",
    "chr1_exp_bad = exp_grp_bad.get_group((\"chr1\",\"chr1\"))\n",
    "#\n",
    "exp_df_bad_raw = expected.diagsum_asymm(clr,\n",
    "                     regions1 = left_regions,\n",
    "                     regions2 = right_regions,\n",
    "                     transforms={},\n",
    "                     weight_name=None,\n",
    "                     bad_bins=bad_bins,\n",
    "                     map = map_)\n",
    "exp_df_bad_raw[\"count.avg\"] = exp_df_bad_raw[\"count.sum\"]/exp_df_bad_raw[\"n_valid\"]\n",
    "exp_df_bad_raw_grp = exp_df_bad_raw.groupby([\"region1\",\"region2\"])\n",
    "# extract several expecteds for different regions ...\n",
    "parm_exp_bad_raw = exp_df_bad_raw_grp.get_group((\"parm\",\"parm\"))\n",
    "pqarm_exp_bad_raw = exp_df_bad_raw_grp.get_group((\"parm\",\"qarm\"))\n",
    "chr1_exp_bad_raw = exp_df_bad_raw_grp.get_group((\"chr1\",\"chr1\"))\n",
    "#\n",
    "pool.close()"
   ]
  },
  {
   "cell_type": "markdown",
   "metadata": {},
   "source": [
    "generating appropriate `expecteds` for p and q arms, for the insertion site"
   ]
  },
  {
   "cell_type": "code",
   "execution_count": 27,
   "metadata": {},
   "outputs": [
    {
     "name": "stdout",
     "output_type": "stream",
     "text": [
      "(150, 243)\n"
     ]
    }
   ],
   "source": [
    "chr1_parm = to_uscs(parm)\n",
    "chr1_qarm = to_uscs(qarm)\n",
    "# shape of the inter-arm heatmap ...\n",
    "lo,hi = clr.extent(parm)\n",
    "psize = hi-lo\n",
    "lo,hi = clr.extent(qarm)\n",
    "qsize = hi-lo\n",
    "shape = (psize,qsize)\n",
    "print(shape)\n",
    "\n",
    "# this function that 1D exepcted to rectangular - for pq-expected\n",
    "get_cr = lambda e, shape : (e[shape[0]-1::-1], e[shape[0]-1:])\n",
    "\n",
    "# balanced expecteds ...\n",
    "pqexp = numutils.LazyToeplitz(*get_cr(pqarm_exp_bad[\"balanced.avg\"].values, shape))\n",
    "pexp = numutils.LazyToeplitz(parm_exp_bad[\"balanced.avg\"])\n",
    "chr1exp = numutils.LazyToeplitz(chr1_exp_bad[\"balanced.avg\"])\n",
    "\n",
    "# raw expecteds ...\n",
    "pqexp_raw = numutils.LazyToeplitz(*get_cr(pqarm_exp_bad_raw[\"count.avg\"].values, shape))\n",
    "pexp_raw = numutils.LazyToeplitz(parm_exp_bad_raw[\"count.avg\"])\n",
    "chr1exp_raw = numutils.LazyToeplitz(chr1_exp_bad_raw[\"count.avg\"])\n",
    "\n",
    "# some very stupid check:\n",
    "# the following must be always true, though - as it accounts for the centromere size\n",
    "assumption = np.diff(clr.extent(parm))+np.diff(clr.extent(centro))+np.diff(clr.extent(qarm))-2 == np.diff(clr.extent(chrom))\n",
    "assert assumption"
   ]
  },
  {
   "cell_type": "markdown",
   "metadata": {},
   "source": [
    "### let's extract allele1/2-related observed, expected and weights ..."
   ]
  },
  {
   "cell_type": "code",
   "execution_count": 28,
   "metadata": {},
   "outputs": [],
   "source": [
    "  \n",
    "# WE ARE NOT GOING TO USE THE WEIGHTS FOR THE ALLELE1/2 ITSELF ...\n",
    "# AS IT IS UNCLEAR - WHAT THEY REFLECT - ALLELE1 AND ALLELE2 AREN'T COMPARABLE\n",
    "# THEMSELVES , ONLY HOW THEY INTERACT WITH THE REST OF THE GENOME ...\n",
    "# wa1, = clr.bins().fetch(\"allele1\")[\"weight\"]\n",
    "# wa2, = clr.bins().fetch(\"allele2\")[\"weight\"]\n",
    "\n",
    "# allele1/2 observed - raw:\n",
    "obs_r_a1_1p, = clr.matrix(balance=False).fetch(\"allele1\",chr1_parm)\n",
    "obs_r_a1_1q, = clr.matrix(balance=False).fetch(\"allele1\",chr1_qarm)\n",
    "\n",
    "obs_r_a2_1p, = clr.matrix(balance=False).fetch(\"allele2\",chr1_parm)\n",
    "obs_r_a2_1q, = clr.matrix(balance=False).fetch(\"allele2\",chr1_qarm)\n",
    "\n",
    "# balancing weights p-arm with bad_bins applied ...\n",
    "wp = clr.bins().fetch(chr1_parm)[weight_name].values\n",
    "lo,hi = clr.extent(chr1_parm)\n",
    "bad_bins_parm = bad_bins[(bad_bins>=lo)&(bad_bins<hi)] - lo\n",
    "if len(bad_bins_parm) > 0:\n",
    "    wp[bad_bins_parm] = np.nan\n",
    "    \n",
    "# we also need to exclude 2 bins in the vicinity of the insertion site:\n",
    "ignore_insertion_site = False    \n",
    "if ignore_insertion_site:\n",
    "    wp[ins_row-1:ins_row+2] = np.nan\n",
    "\n",
    "# balancing weights q-arm with bad_bins masking applied ...\n",
    "wq = clr.bins().fetch(chr1_qarm)[weight_name].values\n",
    "lo,hi = clr.extent(chr1_qarm)\n",
    "bad_bins_qarm = bad_bins[(bad_bins>=lo)&(bad_bins<hi)] - lo\n",
    "if len(bad_bins_qarm) > 0:\n",
    "    wq[bad_bins_qarm] = np.nan\n",
    "\n",
    "# p-arm expected balanced al1 and al2 are the same because insertion sites is really close (+/- 1kb):\n",
    "exp_b_a1a2_1p = pexp[:,ins_row].flatten()\n",
    "exp_b_a1a2_1p_chr1 = chr1exp[:psize,ins_row].flatten()\n",
    "# p-arm expected raw al1 and al2 are the same because insertion sites is really close (+/- 1kb):\n",
    "exp_r_a1a2_1p = pexp_raw[:,ins_row].flatten()\n",
    "exp_r_a1a2_1p_chr1 = chr1exp_raw[:psize,ins_row].flatten()\n",
    "\n",
    "# q-arm expected balanced al1 and al2 are the same because insertion sites is really close (+/- 1kb):\n",
    "exp_b_a1a2_1q = pqexp[ins_row,:].flatten()\n",
    "exp_b_a1a2_1q_chr1 = chr1exp[-qsize:,ins_row].flatten()\n",
    "# q-arm expected balanced al1 and al2 are the same because insertion sites is really close (+/- 1kb):\n",
    "exp_r_a1a2_1q = pqexp_raw[ins_row,:].flatten()\n",
    "exp_r_a1a2_1q_chr1 = chr1exp_raw[-qsize:,ins_row].flatten()\n"
   ]
  },
  {
   "cell_type": "code",
   "execution_count": 29,
   "metadata": {},
   "outputs": [],
   "source": [
    "# # main inputs:\n",
    "# # compartments:\n",
    "# cmp_vals = eigvec_table1[\"E1\"].values\n",
    "\n",
    "p_range_zoom=clr.extent(chr1_parm)\n",
    "q_range_zoom=clr.extent(chr1_qarm)\n",
    "sub_frac = 1.\n",
    "threshold = 0.09\n",
    "balanced=True\n",
    "OE=True\n",
    "num_permutations = 5_000\n",
    "samplez = samples[\"sample\"].values\n",
    "\n",
    "# extract balancing weights for\n",
    "# alleles 1 and 2 - they are meaningless I guess\n",
    "# they only reflect - the total # of interactions\n",
    "# between allele1/2 and chr1\n",
    "wa2, = clr.bins().fetch(\"allele2\")[\"weight\"]\n",
    "wa1, = clr.bins().fetch(\"allele1\")[\"weight\"]\n",
    "# we'll try to use only allele2 balancing weight, since\n",
    "# after subsampling # of pairs per allele1/2 should be\n",
    "# more or less equal\n",
    "if sub_frac < 0.9:\n",
    "    print(\"Beware! Once you start subsampling allele1 data, consider adjusting wa1 ...\")\n",
    "    pass\n",
    "    wa1 = wa2\n",
    "\n",
    "# # now let's do a bunch of subsamplings and a bunch of randomizations to extract average OEs:\n",
    "# obs_average = []\n",
    "# rnd_average = []\n",
    "\n",
    "d1 = {}\n",
    "d2 = {}\n",
    "# p-arm data:\n",
    "d1[\"parm\"] = np.random.binomial(obs_r_a1_1p,sub_frac).T\n",
    "d2[\"parm\"] = obs_r_a2_1p\n",
    "if balanced:\n",
    "    d1[\"parm\"] = d1[\"parm\"] * wp * wa1\n",
    "    d2[\"parm\"] = d2[\"parm\"] * wp * wa2\n",
    "    ep12 = exp_b_a1a2_1p\n",
    "    epc12 = exp_b_a1a2_1p_chr1\n",
    "else:\n",
    "    ep12 = exp_r_a1a2_1p\n",
    "    epc12 = exp_r_a1a2_1p_chr1\n",
    "if OE:\n",
    "    # only arm level expected ...\n",
    "    d1[\"parm\"] = d1[\"parm\"] / ep12\n",
    "    d2[\"parm\"] = d2[\"parm\"] / ep12\n",
    "# q-arm data:\n",
    "d1[\"qarm\"] = np.random.binomial(obs_r_a1_1q,sub_frac).T\n",
    "d2[\"qarm\"] = obs_r_a2_1q\n",
    "if balanced:\n",
    "    d1[\"qarm\"] = d1[\"qarm\"] * wq * wa1\n",
    "    d2[\"qarm\"] = d2[\"qarm\"] * wq * wa2\n",
    "    epq12 = exp_b_a1a2_1q\n",
    "    epqc12 = exp_b_a1a2_1q_chr1\n",
    "else:\n",
    "    epq12 = exp_r_a1a2_1q\n",
    "    epqc12 = exp_r_a1a2_1q_chr1\n",
    "if OE:\n",
    "    # only arm level expected ...\n",
    "    d1[\"qarm\"] = d1[\"qarm\"] / epq12\n",
    "    d2[\"qarm\"] = d2[\"qarm\"] / epq12\n"
   ]
  },
  {
   "cell_type": "code",
   "execution_count": 30,
   "metadata": {},
   "outputs": [
    {
     "name": "stderr",
     "output_type": "stream",
     "text": [
      "/home/venevs/DOTS_TESTING/alv-chicken/allelic-rt-supplement/helper_module.py:59: RuntimeWarning: invalid value encountered in less_equal\n",
      "  ax.fill_between(x,y0,y,where=(y<=level),color = color_less)\n",
      "/home/venevs/DOTS_TESTING/alv-chicken/allelic-rt-supplement/helper_module.py:60: RuntimeWarning: invalid value encountered in greater\n",
      "  ax.fill_between(x,y0,y,where=(y>level),color = color_more)\n"
     ]
    },
    {
     "data": {
      "text/plain": [
       "Text(0, 0.5, 'norm. interactions, OE')"
      ]
     },
     "execution_count": 30,
     "metadata": {},
     "output_type": "execute_result"
    },
    {
     "data": {
      "image/png": "[encoded data removed]",
      "text/plain": [
       "<Figure size 632.061x216 with 2 Axes>"
      ]
     },
     "metadata": {
      "needs_background": "light"
     },
     "output_type": "display_data"
    }
   ],
   "source": [
    "# visualize compartments:\n",
    "f = plt.figure(figsize=(23*psize/(psize+qsize),3),constrained_layout=True)\n",
    "sp = gridspec.GridSpec(ncols=1,\n",
    "                       nrows=2,\n",
    "                       height_ratios=[2,1],\n",
    "                       figure=f\n",
    "                      )\n",
    "\n",
    "axp = f.add_subplot(sp[0])\n",
    "axpc = f.add_subplot(sp[1])#,sharex=axp)\n",
    "# axprt = f.add_subplot(sp[2])#,sharex=axp)\n",
    "# axpcb = f.add_subplot(sp[1,0])\n",
    "# axprtb = f.add_subplot(sp[2,0])\n",
    "\n",
    "axp.tick_params(bottom=False,labelbottom=False)\n",
    "# axpc.tick_params(bottom=False,labelbottom=False)\n",
    "\n",
    "\n",
    "clr = samples[\"cool\"][0]\n",
    "rtdf = binned_rt[\"value_rt\"].reset_index(drop=True).values\n",
    "cmp_vals = eigvec_table1[\"E1\"].values\n",
    "\n",
    "# p_range_zoom = clr.extent(chr1_parm)\n",
    "log=True\n",
    "# balanced=True\n",
    "# OE=True\n",
    "# samplez = samples[\"sample\"].values[0]\n",
    "# sub_frac = 0.65\n",
    "\n",
    "# # we are switching samples inside interactively ...\n",
    "# clr, = samples[\"cool\"][samples[\"sample\"] == samplez].values\n",
    "# # extract balancing weights for\n",
    "# # alleles 1 and 2 - they are meaningless I guess\n",
    "# # they only reflect - the total # of interactions\n",
    "# # between allele1/2 and chr1\n",
    "\n",
    "# # adjust everything to the visible region:\n",
    "xp = range(*p_range_zoom)\n",
    "# compartments:\n",
    "cmpp = cmp_vals[slice(*p_range_zoom)]\n",
    "rtpp = rtdf[slice(*p_range_zoom)]\n",
    "\n",
    "axp.bar(xp, d1[\"parm\"][slice(*p_range_zoom)], alpha=0.6, color=\"darkorange\", label=\"allele1\")\n",
    "axp.bar(xp, d2[\"parm\"][slice(*p_range_zoom)], alpha=0.6,  color=\"steelblue\", label=\"allele2\")\n",
    "axp.set_xlim(*p_range_zoom)\n",
    "axp.legend(loc=\"upper right\",frameon=False)\n",
    "\n",
    "if log:\n",
    "    axp.set_yscale(\"log\")\n",
    "\n",
    "fillcolor_compartment_style(cmp_vals, axpc, bin_range=clr100.extent(chr1_parm) )\n",
    "# fillcolor_compartment_style(rtdf, axprt, bin_range=clr100.extent(chr1_parm) )\n",
    "\n",
    "axpc.set_xlim(clr100.extent(chr1_parm))\n",
    "# axprt.set_xlim(clr100.extent(chr1_parm))\n",
    "\n",
    "from matplotlib import ticker\n",
    "bin_to_mb = ticker.FuncFormatter(lambda x,pos: f\"{int(x*100_000/1_000_000)}\")\n",
    "axpc.xaxis.set_major_formatter(bin_to_mb)\n",
    "axpc.set_xlabel(\"genomic position along chr1 p-arm, Mb\")\n",
    "\n",
    "pylim = axp.get_ylim()\n",
    "pcylim = axpc.get_ylim()\n",
    "\n",
    "\n",
    "axpc.set_ylabel(\"EV1\")\n",
    "axp.set_ylabel(\"norm. interactions, OE\")\n",
    "\n",
    "# plt.savefig(\"main_parm.pdf\")"
   ]
  },
  {
   "cell_type": "code",
   "execution_count": 31,
   "metadata": {},
   "outputs": [
    {
     "name": "stderr",
     "output_type": "stream",
     "text": [
      "/home/venevs/DOTS_TESTING/alv-chicken/allelic-rt-supplement/helper_module.py:59: RuntimeWarning: invalid value encountered in less_equal\n",
      "  ax.fill_between(x,y0,y,where=(y<=level),color = color_less)\n",
      "/home/venevs/DOTS_TESTING/alv-chicken/allelic-rt-supplement/helper_module.py:60: RuntimeWarning: invalid value encountered in greater\n",
      "  ax.fill_between(x,y0,y,where=(y>level),color = color_more)\n"
     ]
    },
    {
     "data": {
      "text/plain": [
       "Text(0, 0.5, 'norm. interactions, OE')"
      ]
     },
     "execution_count": 31,
     "metadata": {},
     "output_type": "execute_result"
    },
    {
     "data": {
      "image/png": "[encoded data removed]",
      "text/plain": [
       "<Figure size 1023.94x216 with 2 Axes>"
      ]
     },
     "metadata": {
      "needs_background": "light"
     },
     "output_type": "display_data"
    }
   ],
   "source": [
    "# visualize compartments:\n",
    "f = plt.figure(figsize=(23*qsize/(psize+qsize),3),constrained_layout=True)\n",
    "sp = gridspec.GridSpec(ncols=1,\n",
    "                       nrows=2,\n",
    "                       height_ratios=[2,1],\n",
    "                       figure=f\n",
    "                      )\n",
    "\n",
    "axq = f.add_subplot(sp[0])\n",
    "axqc = f.add_subplot(sp[1])#,sharex=axq)\n",
    "\n",
    "axq.tick_params(bottom=False,labelbottom=False)\n",
    "# axqc.tick_params(bottom=False,labelbottom=False)\n",
    "\n",
    "\n",
    "clr = samples[\"cool\"][0]\n",
    "cmp_vals = eigvec_table1[\"E1\"].values\n",
    "\n",
    "q_range_zoom = clr.extent(chr1_qarm)\n",
    "# log=True\n",
    "# balanced=True\n",
    "# OE=True\n",
    "# samplez = samples[\"sample\"].values[0]\n",
    "# sub_frac = 0.65\n",
    "\n",
    "# # we are switching samples inside interactively ...\n",
    "# clr, = samples[\"cool\"][samples[\"sample\"] == samplez].values\n",
    "# # extract balancing weights for\n",
    "# # alleles 1 and 2 - they are meaningless I guess\n",
    "# # they only reflect - the total # of interactions\n",
    "# # between allele1/2 and chr1\n",
    "\n",
    "# # adjust everything to the visible region:\n",
    "xq = range(*q_range_zoom)\n",
    "# compartments:\n",
    "cmpq = cmp_vals[slice(*q_range_zoom)]\n",
    "q_range_zoom_rel = [_-clr.offset(chr1_qarm) for _ in q_range_zoom]\n",
    "q_range_zoom_rel_100 = [_-clr100.offset(chr1_qarm) for _ in clr100.extent(chr1_qarm)]\n",
    "\n",
    "\n",
    "\n",
    "axq.bar(xq, d1[\"qarm\"][slice(*q_range_zoom_rel)], alpha=0.6, color=\"darkorange\", label=\"allele1\")\n",
    "axq.bar(xq, d2[\"qarm\"][slice(*q_range_zoom_rel)], alpha=0.6,  color=\"steelblue\", label=\"allele2\")\n",
    "axq.set_xlim(*q_range_zoom)\n",
    "axq.legend(loc=\"upper left\",frameon=False)\n",
    "\n",
    "if log:\n",
    "    axq.set_yscale(\"log\")\n",
    "\n",
    "fillcolor_compartment_style(cmp_vals, axqc, bin_range=clr100.extent(chr1_qarm) )\n",
    "# fillcolor_compartment_style(rtdf, axqrt, bin_range=clr100.extent(chr1_parm) )\n",
    "\n",
    "axqc.set_xlim(clr100.extent(chr1_qarm))\n",
    "# axqrt.set_xlim(clr100.extent(chr1_parm))\n",
    "\n",
    "axq.set_ylim(pylim)\n",
    "axqc.set_ylim(pcylim)\n",
    "\n",
    "\n",
    "bin_to_mb = ticker.FuncFormatter(lambda x,pos: f\"{int(x*100_000/1_000_000)}\")\n",
    "axqc.xaxis.set_major_formatter(bin_to_mb)\n",
    "axqc.set_xlabel(\"genomic position along chr1 q-arm, Mb\")\n",
    "\n",
    "axqc.set_ylabel(\"EV1\")\n",
    "axq.set_ylabel(\"norm. interactions, OE\")\n",
    "\n",
    "# plt.savefig(\"main_qarm.pdf\")"
   ]
  }
 ],
 "metadata": {
  "kernelspec": {
   "display_name": "Python 3",
   "language": "python",
   "name": "python3"
  },
  "language_info": {
   "codemirror_mode": {
    "name": "ipython",
    "version": 3
   },
   "file_extension": ".py",
   "mimetype": "text/x-python",
   "name": "python",
   "nbconvert_exporter": "python",
   "pygments_lexer": "ipython3",
   "version": "3.7.7"
  }
 },
 "nbformat": 4,
 "nbformat_minor": 4
}
